{
 "cells": [
  {
   "cell_type": "markdown",
   "metadata": {},
   "source": [
    "# Автострахование \n",
    "\n"
   ]
  },
  {
   "cell_type": "markdown",
   "metadata": {},
   "source": [
    "## Предоставляются данные о годовом страховании автомобилей, по которым необходимо оценить реальное поведение пользователей (получит ли пользователь страховку?)"
   ]
  },
  {
   "cell_type": "code",
   "execution_count": 1,
   "metadata": {},
   "outputs": [],
   "source": [
    "import numpy as np              \n",
    "import matplotlib.pyplot as plt \n",
    "%matplotlib inline \n",
    "    \n",
    "import pandas as pd             \n",
    "import seaborn as sns           \n",
    "import sklearn  "
   ]
  },
  {
   "cell_type": "code",
   "execution_count": 2,
   "metadata": {},
   "outputs": [],
   "source": [
    "url = \"https://raw.githubusercontent.com/mikhalych20/ML/main/Car_Insurance_Claim.csv\"\n",
    "data_raw = pd.read_csv(url)"
   ]
  },
  {
   "cell_type": "code",
   "execution_count": 3,
   "metadata": {},
   "outputs": [
    {
     "data": {
      "text/plain": [
       "pandas.core.frame.DataFrame"
      ]
     },
     "execution_count": 3,
     "metadata": {},
     "output_type": "execute_result"
    }
   ],
   "source": [
    "type(data_raw)\n"
   ]
  },
  {
   "cell_type": "code",
   "execution_count": 4,
   "metadata": {},
   "outputs": [
    {
     "data": {
      "text/plain": [
       "(10000, 19)"
      ]
     },
     "execution_count": 4,
     "metadata": {},
     "output_type": "execute_result"
    }
   ],
   "source": [
    "data_raw.shape\n"
   ]
  },
  {
   "cell_type": "markdown",
   "metadata": {},
   "source": [
    "В таблице содержатся записи о 10000 клиентах, разделенные на 19 категорий:"
   ]
  },
  {
   "cell_type": "code",
   "execution_count": 5,
   "metadata": {},
   "outputs": [
    {
     "data": {
      "text/html": [
       "<div>\n",
       "<style scoped>\n",
       "    .dataframe tbody tr th:only-of-type {\n",
       "        vertical-align: middle;\n",
       "    }\n",
       "\n",
       "    .dataframe tbody tr th {\n",
       "        vertical-align: top;\n",
       "    }\n",
       "\n",
       "    .dataframe thead th {\n",
       "        text-align: right;\n",
       "    }\n",
       "</style>\n",
       "<table border=\"1\" class=\"dataframe\">\n",
       "  <thead>\n",
       "    <tr style=\"text-align: right;\">\n",
       "      <th></th>\n",
       "      <th>ID</th>\n",
       "      <th>AGE</th>\n",
       "      <th>GENDER</th>\n",
       "      <th>RACE</th>\n",
       "      <th>DRIVING_EXPERIENCE</th>\n",
       "      <th>EDUCATION</th>\n",
       "      <th>INCOME</th>\n",
       "      <th>CREDIT_SCORE</th>\n",
       "      <th>VEHICLE_OWNERSHIP</th>\n",
       "      <th>VEHICLE_YEAR</th>\n",
       "      <th>MARRIED</th>\n",
       "      <th>CHILDREN</th>\n",
       "      <th>POSTAL_CODE</th>\n",
       "      <th>ANNUAL_MILEAGE</th>\n",
       "      <th>VEHICLE_TYPE</th>\n",
       "      <th>SPEEDING_VIOLATIONS</th>\n",
       "      <th>DUIS</th>\n",
       "      <th>PAST_ACCIDENTS</th>\n",
       "      <th>OUTCOME</th>\n",
       "    </tr>\n",
       "  </thead>\n",
       "  <tbody>\n",
       "    <tr>\n",
       "      <th>0</th>\n",
       "      <td>569520</td>\n",
       "      <td>65+</td>\n",
       "      <td>female</td>\n",
       "      <td>majority</td>\n",
       "      <td>0-9y</td>\n",
       "      <td>high school</td>\n",
       "      <td>upper class</td>\n",
       "      <td>0.629027</td>\n",
       "      <td>1.0</td>\n",
       "      <td>after 2015</td>\n",
       "      <td>0.0</td>\n",
       "      <td>1.0</td>\n",
       "      <td>10238</td>\n",
       "      <td>12000.0</td>\n",
       "      <td>sedan</td>\n",
       "      <td>0</td>\n",
       "      <td>0</td>\n",
       "      <td>0</td>\n",
       "      <td>0.0</td>\n",
       "    </tr>\n",
       "    <tr>\n",
       "      <th>1</th>\n",
       "      <td>750365</td>\n",
       "      <td>16-25</td>\n",
       "      <td>male</td>\n",
       "      <td>majority</td>\n",
       "      <td>0-9y</td>\n",
       "      <td>none</td>\n",
       "      <td>poverty</td>\n",
       "      <td>0.357757</td>\n",
       "      <td>0.0</td>\n",
       "      <td>before 2015</td>\n",
       "      <td>0.0</td>\n",
       "      <td>0.0</td>\n",
       "      <td>10238</td>\n",
       "      <td>16000.0</td>\n",
       "      <td>sedan</td>\n",
       "      <td>0</td>\n",
       "      <td>0</td>\n",
       "      <td>0</td>\n",
       "      <td>1.0</td>\n",
       "    </tr>\n",
       "    <tr>\n",
       "      <th>2</th>\n",
       "      <td>199901</td>\n",
       "      <td>16-25</td>\n",
       "      <td>female</td>\n",
       "      <td>majority</td>\n",
       "      <td>0-9y</td>\n",
       "      <td>high school</td>\n",
       "      <td>working class</td>\n",
       "      <td>0.493146</td>\n",
       "      <td>1.0</td>\n",
       "      <td>before 2015</td>\n",
       "      <td>0.0</td>\n",
       "      <td>0.0</td>\n",
       "      <td>10238</td>\n",
       "      <td>11000.0</td>\n",
       "      <td>sedan</td>\n",
       "      <td>0</td>\n",
       "      <td>0</td>\n",
       "      <td>0</td>\n",
       "      <td>0.0</td>\n",
       "    </tr>\n",
       "    <tr>\n",
       "      <th>3</th>\n",
       "      <td>478866</td>\n",
       "      <td>16-25</td>\n",
       "      <td>male</td>\n",
       "      <td>majority</td>\n",
       "      <td>0-9y</td>\n",
       "      <td>university</td>\n",
       "      <td>working class</td>\n",
       "      <td>0.206013</td>\n",
       "      <td>1.0</td>\n",
       "      <td>before 2015</td>\n",
       "      <td>0.0</td>\n",
       "      <td>1.0</td>\n",
       "      <td>32765</td>\n",
       "      <td>11000.0</td>\n",
       "      <td>sedan</td>\n",
       "      <td>0</td>\n",
       "      <td>0</td>\n",
       "      <td>0</td>\n",
       "      <td>0.0</td>\n",
       "    </tr>\n",
       "    <tr>\n",
       "      <th>4</th>\n",
       "      <td>731664</td>\n",
       "      <td>26-39</td>\n",
       "      <td>male</td>\n",
       "      <td>majority</td>\n",
       "      <td>10-19y</td>\n",
       "      <td>none</td>\n",
       "      <td>working class</td>\n",
       "      <td>0.388366</td>\n",
       "      <td>1.0</td>\n",
       "      <td>before 2015</td>\n",
       "      <td>0.0</td>\n",
       "      <td>0.0</td>\n",
       "      <td>32765</td>\n",
       "      <td>12000.0</td>\n",
       "      <td>sedan</td>\n",
       "      <td>2</td>\n",
       "      <td>0</td>\n",
       "      <td>1</td>\n",
       "      <td>1.0</td>\n",
       "    </tr>\n",
       "    <tr>\n",
       "      <th>...</th>\n",
       "      <td>...</td>\n",
       "      <td>...</td>\n",
       "      <td>...</td>\n",
       "      <td>...</td>\n",
       "      <td>...</td>\n",
       "      <td>...</td>\n",
       "      <td>...</td>\n",
       "      <td>...</td>\n",
       "      <td>...</td>\n",
       "      <td>...</td>\n",
       "      <td>...</td>\n",
       "      <td>...</td>\n",
       "      <td>...</td>\n",
       "      <td>...</td>\n",
       "      <td>...</td>\n",
       "      <td>...</td>\n",
       "      <td>...</td>\n",
       "      <td>...</td>\n",
       "      <td>...</td>\n",
       "    </tr>\n",
       "    <tr>\n",
       "      <th>9995</th>\n",
       "      <td>323164</td>\n",
       "      <td>26-39</td>\n",
       "      <td>female</td>\n",
       "      <td>majority</td>\n",
       "      <td>10-19y</td>\n",
       "      <td>university</td>\n",
       "      <td>upper class</td>\n",
       "      <td>0.582787</td>\n",
       "      <td>1.0</td>\n",
       "      <td>before 2015</td>\n",
       "      <td>0.0</td>\n",
       "      <td>0.0</td>\n",
       "      <td>10238</td>\n",
       "      <td>16000.0</td>\n",
       "      <td>sedan</td>\n",
       "      <td>0</td>\n",
       "      <td>0</td>\n",
       "      <td>1</td>\n",
       "      <td>0.0</td>\n",
       "    </tr>\n",
       "    <tr>\n",
       "      <th>9996</th>\n",
       "      <td>910346</td>\n",
       "      <td>26-39</td>\n",
       "      <td>female</td>\n",
       "      <td>majority</td>\n",
       "      <td>10-19y</td>\n",
       "      <td>none</td>\n",
       "      <td>middle class</td>\n",
       "      <td>0.522231</td>\n",
       "      <td>1.0</td>\n",
       "      <td>after 2015</td>\n",
       "      <td>0.0</td>\n",
       "      <td>1.0</td>\n",
       "      <td>32765</td>\n",
       "      <td>NaN</td>\n",
       "      <td>sedan</td>\n",
       "      <td>1</td>\n",
       "      <td>0</td>\n",
       "      <td>0</td>\n",
       "      <td>0.0</td>\n",
       "    </tr>\n",
       "    <tr>\n",
       "      <th>9997</th>\n",
       "      <td>468409</td>\n",
       "      <td>26-39</td>\n",
       "      <td>male</td>\n",
       "      <td>majority</td>\n",
       "      <td>0-9y</td>\n",
       "      <td>high school</td>\n",
       "      <td>middle class</td>\n",
       "      <td>0.470940</td>\n",
       "      <td>1.0</td>\n",
       "      <td>before 2015</td>\n",
       "      <td>0.0</td>\n",
       "      <td>1.0</td>\n",
       "      <td>10238</td>\n",
       "      <td>14000.0</td>\n",
       "      <td>sedan</td>\n",
       "      <td>0</td>\n",
       "      <td>0</td>\n",
       "      <td>0</td>\n",
       "      <td>0.0</td>\n",
       "    </tr>\n",
       "    <tr>\n",
       "      <th>9998</th>\n",
       "      <td>903459</td>\n",
       "      <td>26-39</td>\n",
       "      <td>female</td>\n",
       "      <td>majority</td>\n",
       "      <td>10-19y</td>\n",
       "      <td>high school</td>\n",
       "      <td>poverty</td>\n",
       "      <td>0.364185</td>\n",
       "      <td>0.0</td>\n",
       "      <td>before 2015</td>\n",
       "      <td>0.0</td>\n",
       "      <td>1.0</td>\n",
       "      <td>10238</td>\n",
       "      <td>13000.0</td>\n",
       "      <td>sedan</td>\n",
       "      <td>2</td>\n",
       "      <td>0</td>\n",
       "      <td>1</td>\n",
       "      <td>1.0</td>\n",
       "    </tr>\n",
       "    <tr>\n",
       "      <th>9999</th>\n",
       "      <td>442696</td>\n",
       "      <td>26-39</td>\n",
       "      <td>female</td>\n",
       "      <td>majority</td>\n",
       "      <td>0-9y</td>\n",
       "      <td>none</td>\n",
       "      <td>working class</td>\n",
       "      <td>0.435225</td>\n",
       "      <td>1.0</td>\n",
       "      <td>before 2015</td>\n",
       "      <td>1.0</td>\n",
       "      <td>1.0</td>\n",
       "      <td>10238</td>\n",
       "      <td>13000.0</td>\n",
       "      <td>sedan</td>\n",
       "      <td>0</td>\n",
       "      <td>0</td>\n",
       "      <td>0</td>\n",
       "      <td>0.0</td>\n",
       "    </tr>\n",
       "  </tbody>\n",
       "</table>\n",
       "<p>10000 rows × 19 columns</p>\n",
       "</div>"
      ],
      "text/plain": [
       "          ID    AGE  GENDER      RACE DRIVING_EXPERIENCE    EDUCATION  \\\n",
       "0     569520    65+  female  majority               0-9y  high school   \n",
       "1     750365  16-25    male  majority               0-9y         none   \n",
       "2     199901  16-25  female  majority               0-9y  high school   \n",
       "3     478866  16-25    male  majority               0-9y   university   \n",
       "4     731664  26-39    male  majority             10-19y         none   \n",
       "...      ...    ...     ...       ...                ...          ...   \n",
       "9995  323164  26-39  female  majority             10-19y   university   \n",
       "9996  910346  26-39  female  majority             10-19y         none   \n",
       "9997  468409  26-39    male  majority               0-9y  high school   \n",
       "9998  903459  26-39  female  majority             10-19y  high school   \n",
       "9999  442696  26-39  female  majority               0-9y         none   \n",
       "\n",
       "             INCOME  CREDIT_SCORE  VEHICLE_OWNERSHIP VEHICLE_YEAR  MARRIED  \\\n",
       "0       upper class      0.629027                1.0   after 2015      0.0   \n",
       "1           poverty      0.357757                0.0  before 2015      0.0   \n",
       "2     working class      0.493146                1.0  before 2015      0.0   \n",
       "3     working class      0.206013                1.0  before 2015      0.0   \n",
       "4     working class      0.388366                1.0  before 2015      0.0   \n",
       "...             ...           ...                ...          ...      ...   \n",
       "9995    upper class      0.582787                1.0  before 2015      0.0   \n",
       "9996   middle class      0.522231                1.0   after 2015      0.0   \n",
       "9997   middle class      0.470940                1.0  before 2015      0.0   \n",
       "9998        poverty      0.364185                0.0  before 2015      0.0   \n",
       "9999  working class      0.435225                1.0  before 2015      1.0   \n",
       "\n",
       "      CHILDREN  POSTAL_CODE  ANNUAL_MILEAGE VEHICLE_TYPE  SPEEDING_VIOLATIONS  \\\n",
       "0          1.0        10238         12000.0        sedan                    0   \n",
       "1          0.0        10238         16000.0        sedan                    0   \n",
       "2          0.0        10238         11000.0        sedan                    0   \n",
       "3          1.0        32765         11000.0        sedan                    0   \n",
       "4          0.0        32765         12000.0        sedan                    2   \n",
       "...        ...          ...             ...          ...                  ...   \n",
       "9995       0.0        10238         16000.0        sedan                    0   \n",
       "9996       1.0        32765             NaN        sedan                    1   \n",
       "9997       1.0        10238         14000.0        sedan                    0   \n",
       "9998       1.0        10238         13000.0        sedan                    2   \n",
       "9999       1.0        10238         13000.0        sedan                    0   \n",
       "\n",
       "      DUIS  PAST_ACCIDENTS  OUTCOME  \n",
       "0        0               0      0.0  \n",
       "1        0               0      1.0  \n",
       "2        0               0      0.0  \n",
       "3        0               0      0.0  \n",
       "4        0               1      1.0  \n",
       "...    ...             ...      ...  \n",
       "9995     0               1      0.0  \n",
       "9996     0               0      0.0  \n",
       "9997     0               0      0.0  \n",
       "9998     0               1      1.0  \n",
       "9999     0               0      0.0  \n",
       "\n",
       "[10000 rows x 19 columns]"
      ]
     },
     "execution_count": 5,
     "metadata": {},
     "output_type": "execute_result"
    }
   ],
   "source": [
    "data_raw"
   ]
  },
  {
   "cell_type": "code",
   "execution_count": 6,
   "metadata": {},
   "outputs": [
    {
     "name": "stdout",
     "output_type": "stream",
     "text": [
      "<class 'pandas.core.frame.DataFrame'>\n",
      "RangeIndex: 10000 entries, 0 to 9999\n",
      "Data columns (total 19 columns):\n",
      " #   Column               Non-Null Count  Dtype  \n",
      "---  ------               --------------  -----  \n",
      " 0   ID                   10000 non-null  int64  \n",
      " 1   AGE                  10000 non-null  object \n",
      " 2   GENDER               10000 non-null  object \n",
      " 3   RACE                 10000 non-null  object \n",
      " 4   DRIVING_EXPERIENCE   10000 non-null  object \n",
      " 5   EDUCATION            10000 non-null  object \n",
      " 6   INCOME               10000 non-null  object \n",
      " 7   CREDIT_SCORE         9018 non-null   float64\n",
      " 8   VEHICLE_OWNERSHIP    10000 non-null  float64\n",
      " 9   VEHICLE_YEAR         10000 non-null  object \n",
      " 10  MARRIED              10000 non-null  float64\n",
      " 11  CHILDREN             10000 non-null  float64\n",
      " 12  POSTAL_CODE          10000 non-null  int64  \n",
      " 13  ANNUAL_MILEAGE       9043 non-null   float64\n",
      " 14  VEHICLE_TYPE         10000 non-null  object \n",
      " 15  SPEEDING_VIOLATIONS  10000 non-null  int64  \n",
      " 16  DUIS                 10000 non-null  int64  \n",
      " 17  PAST_ACCIDENTS       10000 non-null  int64  \n",
      " 18  OUTCOME              10000 non-null  float64\n",
      "dtypes: float64(6), int64(5), object(8)\n",
      "memory usage: 1.4+ MB\n"
     ]
    }
   ],
   "source": [
    "data_raw.info()"
   ]
  },
  {
   "cell_type": "markdown",
   "metadata": {},
   "source": [
    "Признаки имеют имена:\n",
    "1. ID - уникальный идентификатор (числовой)\n",
    "2. AGE - возраст клиента (категориальный)\n",
    "3. GENDER - пол клиента (категориальный)\n",
    "4. RACE - раса (категориальный)\n",
    "4. DRIVING_EXPERIENCE - стаж вождения клиента (категориальный)\n",
    "5. EDUCATION - образование (категориальный)\n",
    "6. INCOME - доход (категориальный)\n",
    "7. CREDIT_SCORE\t - кредитный рейтинг(числовой)\n",
    "8. VEHICLE_OWNERSHIP - наличие автомобиля (имеется ли автомобиль?) (числовой)\n",
    "9. VEHICLE_YEAR - год покупки автомобиля (категориальный)\t\n",
    "10. MARRIED - семейное положение (числовой)\n",
    "11. CHILDREN - наличие детей (числовой)\t\n",
    "12. POSTAL_CODE - почтовый индекс (числовой)\t\n",
    "13. ANNUAL_MILEAGE - пробег автомобиля (числовой)\n",
    "14. VEHICLE_TYPE - тип транспортного средства (категориальный)\t\n",
    "15. SPEEDING_VIOLATIONS - штрафы за превышение скорости (числовой)\t\n",
    "16. DUIS - вождение в нетрезвом виде (числовой)\n",
    "17. PAST_ACCIDENTS - аварии (числовой)\n",
    "18. OUTCOME - результат выдачи страховки (числовой)"
   ]
  },
  {
   "cell_type": "markdown",
   "metadata": {},
   "source": [
    "Заменим тип 'object' на специальный, предназначенный для хранения категориальных значений:"
   ]
  },
  {
   "cell_type": "code",
   "execution_count": 7,
   "metadata": {},
   "outputs": [],
   "source": [
    "data_raw_1 = data_raw.copy()\n",
    "data_raw['AGE'] = data_raw['AGE'].astype('category')\n",
    "data_raw['GENDER'] = data_raw['GENDER'].astype('category')\n",
    "data_raw['RACE'] = data_raw['RACE'].astype('category')\n",
    "data_raw['DRIVING_EXPERIENCE'] = data_raw['DRIVING_EXPERIENCE'].astype('category')\n",
    "data_raw['EDUCATION'] = data_raw['EDUCATION'].astype('category')\n",
    "data_raw['INCOME'] = data_raw['INCOME'].astype('category')\n",
    "data_raw['VEHICLE_YEAR'] = data_raw['VEHICLE_YEAR'].astype('category')\n",
    "data_raw['VEHICLE_TYPE'] = data_raw['VEHICLE_TYPE'].astype('category')\n"
   ]
  },
  {
   "cell_type": "code",
   "execution_count": 8,
   "metadata": {},
   "outputs": [
    {
     "name": "stdout",
     "output_type": "stream",
     "text": [
      "<class 'pandas.core.frame.DataFrame'>\n",
      "RangeIndex: 10000 entries, 0 to 9999\n",
      "Data columns (total 19 columns):\n",
      " #   Column               Non-Null Count  Dtype   \n",
      "---  ------               --------------  -----   \n",
      " 0   ID                   10000 non-null  int64   \n",
      " 1   AGE                  10000 non-null  category\n",
      " 2   GENDER               10000 non-null  category\n",
      " 3   RACE                 10000 non-null  category\n",
      " 4   DRIVING_EXPERIENCE   10000 non-null  category\n",
      " 5   EDUCATION            10000 non-null  category\n",
      " 6   INCOME               10000 non-null  category\n",
      " 7   CREDIT_SCORE         9018 non-null   float64 \n",
      " 8   VEHICLE_OWNERSHIP    10000 non-null  float64 \n",
      " 9   VEHICLE_YEAR         10000 non-null  category\n",
      " 10  MARRIED              10000 non-null  float64 \n",
      " 11  CHILDREN             10000 non-null  float64 \n",
      " 12  POSTAL_CODE          10000 non-null  int64   \n",
      " 13  ANNUAL_MILEAGE       9043 non-null   float64 \n",
      " 14  VEHICLE_TYPE         10000 non-null  category\n",
      " 15  SPEEDING_VIOLATIONS  10000 non-null  int64   \n",
      " 16  DUIS                 10000 non-null  int64   \n",
      " 17  PAST_ACCIDENTS       10000 non-null  int64   \n",
      " 18  OUTCOME              10000 non-null  float64 \n",
      "dtypes: category(8), float64(6), int64(5)\n",
      "memory usage: 938.7 KB\n"
     ]
    }
   ],
   "source": [
    "data_raw.info()\n"
   ]
  },
  {
   "cell_type": "markdown",
   "metadata": {},
   "source": [
    "### Основные характеристики:"
   ]
  },
  {
   "cell_type": "code",
   "execution_count": 9,
   "metadata": {},
   "outputs": [
    {
     "data": {
      "text/html": [
       "<div>\n",
       "<style scoped>\n",
       "    .dataframe tbody tr th:only-of-type {\n",
       "        vertical-align: middle;\n",
       "    }\n",
       "\n",
       "    .dataframe tbody tr th {\n",
       "        vertical-align: top;\n",
       "    }\n",
       "\n",
       "    .dataframe thead th {\n",
       "        text-align: right;\n",
       "    }\n",
       "</style>\n",
       "<table border=\"1\" class=\"dataframe\">\n",
       "  <thead>\n",
       "    <tr style=\"text-align: right;\">\n",
       "      <th></th>\n",
       "      <th>ID</th>\n",
       "      <th>CREDIT_SCORE</th>\n",
       "      <th>VEHICLE_OWNERSHIP</th>\n",
       "      <th>MARRIED</th>\n",
       "      <th>CHILDREN</th>\n",
       "      <th>POSTAL_CODE</th>\n",
       "      <th>ANNUAL_MILEAGE</th>\n",
       "      <th>SPEEDING_VIOLATIONS</th>\n",
       "      <th>DUIS</th>\n",
       "      <th>PAST_ACCIDENTS</th>\n",
       "      <th>OUTCOME</th>\n",
       "    </tr>\n",
       "  </thead>\n",
       "  <tbody>\n",
       "    <tr>\n",
       "      <th>count</th>\n",
       "      <td>10000.000000</td>\n",
       "      <td>9018.000000</td>\n",
       "      <td>10000.000000</td>\n",
       "      <td>10000.000000</td>\n",
       "      <td>10000.000000</td>\n",
       "      <td>10000.000000</td>\n",
       "      <td>9043.000000</td>\n",
       "      <td>10000.000000</td>\n",
       "      <td>10000.00000</td>\n",
       "      <td>10000.000000</td>\n",
       "      <td>10000.000000</td>\n",
       "    </tr>\n",
       "    <tr>\n",
       "      <th>mean</th>\n",
       "      <td>500521.906800</td>\n",
       "      <td>0.515813</td>\n",
       "      <td>0.697000</td>\n",
       "      <td>0.498200</td>\n",
       "      <td>0.688800</td>\n",
       "      <td>19864.548400</td>\n",
       "      <td>11697.003207</td>\n",
       "      <td>1.482900</td>\n",
       "      <td>0.23920</td>\n",
       "      <td>1.056300</td>\n",
       "      <td>0.313300</td>\n",
       "    </tr>\n",
       "    <tr>\n",
       "      <th>std</th>\n",
       "      <td>290030.768758</td>\n",
       "      <td>0.137688</td>\n",
       "      <td>0.459578</td>\n",
       "      <td>0.500022</td>\n",
       "      <td>0.463008</td>\n",
       "      <td>18915.613855</td>\n",
       "      <td>2818.434528</td>\n",
       "      <td>2.241966</td>\n",
       "      <td>0.55499</td>\n",
       "      <td>1.652454</td>\n",
       "      <td>0.463858</td>\n",
       "    </tr>\n",
       "    <tr>\n",
       "      <th>min</th>\n",
       "      <td>101.000000</td>\n",
       "      <td>0.053358</td>\n",
       "      <td>0.000000</td>\n",
       "      <td>0.000000</td>\n",
       "      <td>0.000000</td>\n",
       "      <td>10238.000000</td>\n",
       "      <td>2000.000000</td>\n",
       "      <td>0.000000</td>\n",
       "      <td>0.00000</td>\n",
       "      <td>0.000000</td>\n",
       "      <td>0.000000</td>\n",
       "    </tr>\n",
       "    <tr>\n",
       "      <th>25%</th>\n",
       "      <td>249638.500000</td>\n",
       "      <td>0.417191</td>\n",
       "      <td>0.000000</td>\n",
       "      <td>0.000000</td>\n",
       "      <td>0.000000</td>\n",
       "      <td>10238.000000</td>\n",
       "      <td>10000.000000</td>\n",
       "      <td>0.000000</td>\n",
       "      <td>0.00000</td>\n",
       "      <td>0.000000</td>\n",
       "      <td>0.000000</td>\n",
       "    </tr>\n",
       "    <tr>\n",
       "      <th>50%</th>\n",
       "      <td>501777.000000</td>\n",
       "      <td>0.525033</td>\n",
       "      <td>1.000000</td>\n",
       "      <td>0.000000</td>\n",
       "      <td>1.000000</td>\n",
       "      <td>10238.000000</td>\n",
       "      <td>12000.000000</td>\n",
       "      <td>0.000000</td>\n",
       "      <td>0.00000</td>\n",
       "      <td>0.000000</td>\n",
       "      <td>0.000000</td>\n",
       "    </tr>\n",
       "    <tr>\n",
       "      <th>75%</th>\n",
       "      <td>753974.500000</td>\n",
       "      <td>0.618312</td>\n",
       "      <td>1.000000</td>\n",
       "      <td>1.000000</td>\n",
       "      <td>1.000000</td>\n",
       "      <td>32765.000000</td>\n",
       "      <td>14000.000000</td>\n",
       "      <td>2.000000</td>\n",
       "      <td>0.00000</td>\n",
       "      <td>2.000000</td>\n",
       "      <td>1.000000</td>\n",
       "    </tr>\n",
       "    <tr>\n",
       "      <th>max</th>\n",
       "      <td>999976.000000</td>\n",
       "      <td>0.960819</td>\n",
       "      <td>1.000000</td>\n",
       "      <td>1.000000</td>\n",
       "      <td>1.000000</td>\n",
       "      <td>92101.000000</td>\n",
       "      <td>22000.000000</td>\n",
       "      <td>22.000000</td>\n",
       "      <td>6.00000</td>\n",
       "      <td>15.000000</td>\n",
       "      <td>1.000000</td>\n",
       "    </tr>\n",
       "  </tbody>\n",
       "</table>\n",
       "</div>"
      ],
      "text/plain": [
       "                  ID  CREDIT_SCORE  VEHICLE_OWNERSHIP       MARRIED  \\\n",
       "count   10000.000000   9018.000000       10000.000000  10000.000000   \n",
       "mean   500521.906800      0.515813           0.697000      0.498200   \n",
       "std    290030.768758      0.137688           0.459578      0.500022   \n",
       "min       101.000000      0.053358           0.000000      0.000000   \n",
       "25%    249638.500000      0.417191           0.000000      0.000000   \n",
       "50%    501777.000000      0.525033           1.000000      0.000000   \n",
       "75%    753974.500000      0.618312           1.000000      1.000000   \n",
       "max    999976.000000      0.960819           1.000000      1.000000   \n",
       "\n",
       "           CHILDREN   POSTAL_CODE  ANNUAL_MILEAGE  SPEEDING_VIOLATIONS  \\\n",
       "count  10000.000000  10000.000000     9043.000000         10000.000000   \n",
       "mean       0.688800  19864.548400    11697.003207             1.482900   \n",
       "std        0.463008  18915.613855     2818.434528             2.241966   \n",
       "min        0.000000  10238.000000     2000.000000             0.000000   \n",
       "25%        0.000000  10238.000000    10000.000000             0.000000   \n",
       "50%        1.000000  10238.000000    12000.000000             0.000000   \n",
       "75%        1.000000  32765.000000    14000.000000             2.000000   \n",
       "max        1.000000  92101.000000    22000.000000            22.000000   \n",
       "\n",
       "              DUIS  PAST_ACCIDENTS       OUTCOME  \n",
       "count  10000.00000    10000.000000  10000.000000  \n",
       "mean       0.23920        1.056300      0.313300  \n",
       "std        0.55499        1.652454      0.463858  \n",
       "min        0.00000        0.000000      0.000000  \n",
       "25%        0.00000        0.000000      0.000000  \n",
       "50%        0.00000        0.000000      0.000000  \n",
       "75%        0.00000        2.000000      1.000000  \n",
       "max        6.00000       15.000000      1.000000  "
      ]
     },
     "execution_count": 9,
     "metadata": {},
     "output_type": "execute_result"
    }
   ],
   "source": [
    "data_raw.describe()\n"
   ]
  },
  {
   "cell_type": "code",
   "execution_count": 10,
   "metadata": {},
   "outputs": [
    {
     "data": {
      "text/html": [
       "<div>\n",
       "<style scoped>\n",
       "    .dataframe tbody tr th:only-of-type {\n",
       "        vertical-align: middle;\n",
       "    }\n",
       "\n",
       "    .dataframe tbody tr th {\n",
       "        vertical-align: top;\n",
       "    }\n",
       "\n",
       "    .dataframe thead th {\n",
       "        text-align: right;\n",
       "    }\n",
       "</style>\n",
       "<table border=\"1\" class=\"dataframe\">\n",
       "  <thead>\n",
       "    <tr style=\"text-align: right;\">\n",
       "      <th></th>\n",
       "      <th>AGE</th>\n",
       "      <th>GENDER</th>\n",
       "      <th>RACE</th>\n",
       "      <th>DRIVING_EXPERIENCE</th>\n",
       "      <th>EDUCATION</th>\n",
       "      <th>INCOME</th>\n",
       "      <th>VEHICLE_YEAR</th>\n",
       "      <th>VEHICLE_TYPE</th>\n",
       "    </tr>\n",
       "  </thead>\n",
       "  <tbody>\n",
       "    <tr>\n",
       "      <th>count</th>\n",
       "      <td>10000</td>\n",
       "      <td>10000</td>\n",
       "      <td>10000</td>\n",
       "      <td>10000</td>\n",
       "      <td>10000</td>\n",
       "      <td>10000</td>\n",
       "      <td>10000</td>\n",
       "      <td>10000</td>\n",
       "    </tr>\n",
       "    <tr>\n",
       "      <th>unique</th>\n",
       "      <td>4</td>\n",
       "      <td>2</td>\n",
       "      <td>2</td>\n",
       "      <td>4</td>\n",
       "      <td>3</td>\n",
       "      <td>4</td>\n",
       "      <td>2</td>\n",
       "      <td>2</td>\n",
       "    </tr>\n",
       "    <tr>\n",
       "      <th>top</th>\n",
       "      <td>26-39</td>\n",
       "      <td>female</td>\n",
       "      <td>majority</td>\n",
       "      <td>0-9y</td>\n",
       "      <td>high school</td>\n",
       "      <td>upper class</td>\n",
       "      <td>before 2015</td>\n",
       "      <td>sedan</td>\n",
       "    </tr>\n",
       "    <tr>\n",
       "      <th>freq</th>\n",
       "      <td>3063</td>\n",
       "      <td>5010</td>\n",
       "      <td>9012</td>\n",
       "      <td>3530</td>\n",
       "      <td>4157</td>\n",
       "      <td>4336</td>\n",
       "      <td>6967</td>\n",
       "      <td>9523</td>\n",
       "    </tr>\n",
       "  </tbody>\n",
       "</table>\n",
       "</div>"
      ],
      "text/plain": [
       "          AGE  GENDER      RACE DRIVING_EXPERIENCE    EDUCATION       INCOME  \\\n",
       "count   10000   10000     10000              10000        10000        10000   \n",
       "unique      4       2         2                  4            3            4   \n",
       "top     26-39  female  majority               0-9y  high school  upper class   \n",
       "freq     3063    5010      9012               3530         4157         4336   \n",
       "\n",
       "       VEHICLE_YEAR VEHICLE_TYPE  \n",
       "count         10000        10000  \n",
       "unique            2            2  \n",
       "top     before 2015        sedan  \n",
       "freq           6967         9523  "
      ]
     },
     "execution_count": 10,
     "metadata": {},
     "output_type": "execute_result"
    }
   ],
   "source": [
    "data_raw.describe(include=['category'])"
   ]
  },
  {
   "cell_type": "markdown",
   "metadata": {},
   "source": [
    "Видим, что большинство клиентов, запрашивающих страховку ранее не имели нарушений ПДД, фиксирующихся в таблице. При этом мы видим, что максимальное число нарушений у одного человек зафиксированн: 22 - превышение скорости, 6 - вождение в нетрезвом виде, 15 - аварийные ситуации. Максимальный кредитный рейтинг равен 0.96. Преобладает маленький водительский стаж (0-9), в основном за страховкой обратились люди в возрасте 26-39 лет, большинство из обратившихся - женщины. Обратившиеся в основном закончили старшую школу и имеют высокий уровень достатка. "
   ]
  },
  {
   "cell_type": "markdown",
   "metadata": {},
   "source": [
    "### Матрица корреляции:"
   ]
  },
  {
   "cell_type": "code",
   "execution_count": 11,
   "metadata": {},
   "outputs": [
    {
     "data": {
      "text/html": [
       "<div>\n",
       "<style scoped>\n",
       "    .dataframe tbody tr th:only-of-type {\n",
       "        vertical-align: middle;\n",
       "    }\n",
       "\n",
       "    .dataframe tbody tr th {\n",
       "        vertical-align: top;\n",
       "    }\n",
       "\n",
       "    .dataframe thead th {\n",
       "        text-align: right;\n",
       "    }\n",
       "</style>\n",
       "<table border=\"1\" class=\"dataframe\">\n",
       "  <thead>\n",
       "    <tr style=\"text-align: right;\">\n",
       "      <th></th>\n",
       "      <th>ID</th>\n",
       "      <th>CREDIT_SCORE</th>\n",
       "      <th>VEHICLE_OWNERSHIP</th>\n",
       "      <th>MARRIED</th>\n",
       "      <th>CHILDREN</th>\n",
       "      <th>POSTAL_CODE</th>\n",
       "      <th>ANNUAL_MILEAGE</th>\n",
       "      <th>SPEEDING_VIOLATIONS</th>\n",
       "      <th>DUIS</th>\n",
       "      <th>PAST_ACCIDENTS</th>\n",
       "      <th>OUTCOME</th>\n",
       "    </tr>\n",
       "  </thead>\n",
       "  <tbody>\n",
       "    <tr>\n",
       "      <th>ID</th>\n",
       "      <td>1.000000</td>\n",
       "      <td>0.001704</td>\n",
       "      <td>0.009197</td>\n",
       "      <td>0.014826</td>\n",
       "      <td>0.001233</td>\n",
       "      <td>0.006038</td>\n",
       "      <td>-0.002217</td>\n",
       "      <td>0.008156</td>\n",
       "      <td>0.009268</td>\n",
       "      <td>0.001831</td>\n",
       "      <td>-0.010506</td>\n",
       "    </tr>\n",
       "    <tr>\n",
       "      <th>CREDIT_SCORE</th>\n",
       "      <td>0.001704</td>\n",
       "      <td>1.000000</td>\n",
       "      <td>0.312037</td>\n",
       "      <td>0.281238</td>\n",
       "      <td>0.220658</td>\n",
       "      <td>0.009040</td>\n",
       "      <td>-0.174453</td>\n",
       "      <td>0.204542</td>\n",
       "      <td>0.127366</td>\n",
       "      <td>0.180978</td>\n",
       "      <td>-0.325286</td>\n",
       "    </tr>\n",
       "    <tr>\n",
       "      <th>VEHICLE_OWNERSHIP</th>\n",
       "      <td>0.009197</td>\n",
       "      <td>0.312037</td>\n",
       "      <td>1.000000</td>\n",
       "      <td>0.175626</td>\n",
       "      <td>0.125990</td>\n",
       "      <td>-0.004866</td>\n",
       "      <td>-0.097433</td>\n",
       "      <td>0.133868</td>\n",
       "      <td>0.086567</td>\n",
       "      <td>0.119521</td>\n",
       "      <td>-0.378921</td>\n",
       "    </tr>\n",
       "    <tr>\n",
       "      <th>MARRIED</th>\n",
       "      <td>0.014826</td>\n",
       "      <td>0.281238</td>\n",
       "      <td>0.175626</td>\n",
       "      <td>1.000000</td>\n",
       "      <td>0.287009</td>\n",
       "      <td>0.012045</td>\n",
       "      <td>-0.462193</td>\n",
       "      <td>0.218855</td>\n",
       "      <td>0.120840</td>\n",
       "      <td>0.215269</td>\n",
       "      <td>-0.262104</td>\n",
       "    </tr>\n",
       "    <tr>\n",
       "      <th>CHILDREN</th>\n",
       "      <td>0.001233</td>\n",
       "      <td>0.220658</td>\n",
       "      <td>0.125990</td>\n",
       "      <td>0.287009</td>\n",
       "      <td>1.000000</td>\n",
       "      <td>0.020911</td>\n",
       "      <td>-0.447655</td>\n",
       "      <td>0.220415</td>\n",
       "      <td>0.115354</td>\n",
       "      <td>0.206295</td>\n",
       "      <td>-0.232835</td>\n",
       "    </tr>\n",
       "    <tr>\n",
       "      <th>POSTAL_CODE</th>\n",
       "      <td>0.006038</td>\n",
       "      <td>0.009040</td>\n",
       "      <td>-0.004866</td>\n",
       "      <td>0.012045</td>\n",
       "      <td>0.020911</td>\n",
       "      <td>1.000000</td>\n",
       "      <td>-0.133978</td>\n",
       "      <td>0.113686</td>\n",
       "      <td>0.038492</td>\n",
       "      <td>-0.116985</td>\n",
       "      <td>0.095889</td>\n",
       "    </tr>\n",
       "    <tr>\n",
       "      <th>ANNUAL_MILEAGE</th>\n",
       "      <td>-0.002217</td>\n",
       "      <td>-0.174453</td>\n",
       "      <td>-0.097433</td>\n",
       "      <td>-0.462193</td>\n",
       "      <td>-0.447655</td>\n",
       "      <td>-0.133978</td>\n",
       "      <td>1.000000</td>\n",
       "      <td>-0.323547</td>\n",
       "      <td>-0.116598</td>\n",
       "      <td>-0.195217</td>\n",
       "      <td>0.187154</td>\n",
       "    </tr>\n",
       "    <tr>\n",
       "      <th>SPEEDING_VIOLATIONS</th>\n",
       "      <td>0.008156</td>\n",
       "      <td>0.204542</td>\n",
       "      <td>0.133868</td>\n",
       "      <td>0.218855</td>\n",
       "      <td>0.220415</td>\n",
       "      <td>0.113686</td>\n",
       "      <td>-0.323547</td>\n",
       "      <td>1.000000</td>\n",
       "      <td>0.359838</td>\n",
       "      <td>0.443074</td>\n",
       "      <td>-0.291862</td>\n",
       "    </tr>\n",
       "    <tr>\n",
       "      <th>DUIS</th>\n",
       "      <td>0.009268</td>\n",
       "      <td>0.127366</td>\n",
       "      <td>0.086567</td>\n",
       "      <td>0.120840</td>\n",
       "      <td>0.115354</td>\n",
       "      <td>0.038492</td>\n",
       "      <td>-0.116598</td>\n",
       "      <td>0.359838</td>\n",
       "      <td>1.000000</td>\n",
       "      <td>0.259359</td>\n",
       "      <td>-0.189352</td>\n",
       "    </tr>\n",
       "    <tr>\n",
       "      <th>PAST_ACCIDENTS</th>\n",
       "      <td>0.001831</td>\n",
       "      <td>0.180978</td>\n",
       "      <td>0.119521</td>\n",
       "      <td>0.215269</td>\n",
       "      <td>0.206295</td>\n",
       "      <td>-0.116985</td>\n",
       "      <td>-0.195217</td>\n",
       "      <td>0.443074</td>\n",
       "      <td>0.259359</td>\n",
       "      <td>1.000000</td>\n",
       "      <td>-0.311495</td>\n",
       "    </tr>\n",
       "    <tr>\n",
       "      <th>OUTCOME</th>\n",
       "      <td>-0.010506</td>\n",
       "      <td>-0.325286</td>\n",
       "      <td>-0.378921</td>\n",
       "      <td>-0.262104</td>\n",
       "      <td>-0.232835</td>\n",
       "      <td>0.095889</td>\n",
       "      <td>0.187154</td>\n",
       "      <td>-0.291862</td>\n",
       "      <td>-0.189352</td>\n",
       "      <td>-0.311495</td>\n",
       "      <td>1.000000</td>\n",
       "    </tr>\n",
       "  </tbody>\n",
       "</table>\n",
       "</div>"
      ],
      "text/plain": [
       "                           ID  CREDIT_SCORE  VEHICLE_OWNERSHIP   MARRIED  \\\n",
       "ID                   1.000000      0.001704           0.009197  0.014826   \n",
       "CREDIT_SCORE         0.001704      1.000000           0.312037  0.281238   \n",
       "VEHICLE_OWNERSHIP    0.009197      0.312037           1.000000  0.175626   \n",
       "MARRIED              0.014826      0.281238           0.175626  1.000000   \n",
       "CHILDREN             0.001233      0.220658           0.125990  0.287009   \n",
       "POSTAL_CODE          0.006038      0.009040          -0.004866  0.012045   \n",
       "ANNUAL_MILEAGE      -0.002217     -0.174453          -0.097433 -0.462193   \n",
       "SPEEDING_VIOLATIONS  0.008156      0.204542           0.133868  0.218855   \n",
       "DUIS                 0.009268      0.127366           0.086567  0.120840   \n",
       "PAST_ACCIDENTS       0.001831      0.180978           0.119521  0.215269   \n",
       "OUTCOME             -0.010506     -0.325286          -0.378921 -0.262104   \n",
       "\n",
       "                     CHILDREN  POSTAL_CODE  ANNUAL_MILEAGE  \\\n",
       "ID                   0.001233     0.006038       -0.002217   \n",
       "CREDIT_SCORE         0.220658     0.009040       -0.174453   \n",
       "VEHICLE_OWNERSHIP    0.125990    -0.004866       -0.097433   \n",
       "MARRIED              0.287009     0.012045       -0.462193   \n",
       "CHILDREN             1.000000     0.020911       -0.447655   \n",
       "POSTAL_CODE          0.020911     1.000000       -0.133978   \n",
       "ANNUAL_MILEAGE      -0.447655    -0.133978        1.000000   \n",
       "SPEEDING_VIOLATIONS  0.220415     0.113686       -0.323547   \n",
       "DUIS                 0.115354     0.038492       -0.116598   \n",
       "PAST_ACCIDENTS       0.206295    -0.116985       -0.195217   \n",
       "OUTCOME             -0.232835     0.095889        0.187154   \n",
       "\n",
       "                     SPEEDING_VIOLATIONS      DUIS  PAST_ACCIDENTS   OUTCOME  \n",
       "ID                              0.008156  0.009268        0.001831 -0.010506  \n",
       "CREDIT_SCORE                    0.204542  0.127366        0.180978 -0.325286  \n",
       "VEHICLE_OWNERSHIP               0.133868  0.086567        0.119521 -0.378921  \n",
       "MARRIED                         0.218855  0.120840        0.215269 -0.262104  \n",
       "CHILDREN                        0.220415  0.115354        0.206295 -0.232835  \n",
       "POSTAL_CODE                     0.113686  0.038492       -0.116985  0.095889  \n",
       "ANNUAL_MILEAGE                 -0.323547 -0.116598       -0.195217  0.187154  \n",
       "SPEEDING_VIOLATIONS             1.000000  0.359838        0.443074 -0.291862  \n",
       "DUIS                            0.359838  1.000000        0.259359 -0.189352  \n",
       "PAST_ACCIDENTS                  0.443074  0.259359        1.000000 -0.311495  \n",
       "OUTCOME                        -0.291862 -0.189352       -0.311495  1.000000  "
      ]
     },
     "execution_count": 11,
     "metadata": {},
     "output_type": "execute_result"
    }
   ],
   "source": [
    "corr_mat = data_raw_1.corr()\n",
    "corr_mat"
   ]
  },
  {
   "cell_type": "markdown",
   "metadata": {},
   "source": [
    "Чем светлее ячейка, тем больше по абсолютной величине коэффициент корреляции:"
   ]
  },
  {
   "cell_type": "code",
   "execution_count": 12,
   "metadata": {},
   "outputs": [
    {
     "data": {
      "image/png": "[encoded data removed]",
      "text/plain": [
       "<Figure size 432x288 with 2 Axes>"
      ]
     },
     "metadata": {
      "needs_background": "light"
     },
     "output_type": "display_data"
    }
   ],
   "source": [
    "sns.heatmap(corr_mat, square=True, cmap='coolwarm')\n",
    "pass"
   ]
  },
  {
   "cell_type": "markdown",
   "metadata": {},
   "source": [
    "Выведем коэффициенты корреляции, большие заданного значения:"
   ]
  },
  {
   "cell_type": "code",
   "execution_count": 13,
   "metadata": {},
   "outputs": [
    {
     "data": {
      "text/html": [
       "<div>\n",
       "<style scoped>\n",
       "    .dataframe tbody tr th:only-of-type {\n",
       "        vertical-align: middle;\n",
       "    }\n",
       "\n",
       "    .dataframe tbody tr th {\n",
       "        vertical-align: top;\n",
       "    }\n",
       "\n",
       "    .dataframe thead th {\n",
       "        text-align: right;\n",
       "    }\n",
       "</style>\n",
       "<table border=\"1\" class=\"dataframe\">\n",
       "  <thead>\n",
       "    <tr style=\"text-align: right;\">\n",
       "      <th></th>\n",
       "      <th>ID</th>\n",
       "      <th>CREDIT_SCORE</th>\n",
       "      <th>VEHICLE_OWNERSHIP</th>\n",
       "      <th>MARRIED</th>\n",
       "      <th>CHILDREN</th>\n",
       "      <th>POSTAL_CODE</th>\n",
       "      <th>ANNUAL_MILEAGE</th>\n",
       "      <th>SPEEDING_VIOLATIONS</th>\n",
       "      <th>DUIS</th>\n",
       "      <th>PAST_ACCIDENTS</th>\n",
       "      <th>OUTCOME</th>\n",
       "    </tr>\n",
       "  </thead>\n",
       "  <tbody>\n",
       "    <tr>\n",
       "      <th>ID</th>\n",
       "      <td>True</td>\n",
       "      <td>False</td>\n",
       "      <td>False</td>\n",
       "      <td>False</td>\n",
       "      <td>False</td>\n",
       "      <td>False</td>\n",
       "      <td>False</td>\n",
       "      <td>False</td>\n",
       "      <td>False</td>\n",
       "      <td>False</td>\n",
       "      <td>False</td>\n",
       "    </tr>\n",
       "    <tr>\n",
       "      <th>CREDIT_SCORE</th>\n",
       "      <td>False</td>\n",
       "      <td>True</td>\n",
       "      <td>False</td>\n",
       "      <td>False</td>\n",
       "      <td>False</td>\n",
       "      <td>False</td>\n",
       "      <td>False</td>\n",
       "      <td>False</td>\n",
       "      <td>False</td>\n",
       "      <td>False</td>\n",
       "      <td>False</td>\n",
       "    </tr>\n",
       "    <tr>\n",
       "      <th>VEHICLE_OWNERSHIP</th>\n",
       "      <td>False</td>\n",
       "      <td>False</td>\n",
       "      <td>True</td>\n",
       "      <td>False</td>\n",
       "      <td>False</td>\n",
       "      <td>False</td>\n",
       "      <td>False</td>\n",
       "      <td>False</td>\n",
       "      <td>False</td>\n",
       "      <td>False</td>\n",
       "      <td>False</td>\n",
       "    </tr>\n",
       "    <tr>\n",
       "      <th>MARRIED</th>\n",
       "      <td>False</td>\n",
       "      <td>False</td>\n",
       "      <td>False</td>\n",
       "      <td>True</td>\n",
       "      <td>False</td>\n",
       "      <td>False</td>\n",
       "      <td>False</td>\n",
       "      <td>False</td>\n",
       "      <td>False</td>\n",
       "      <td>False</td>\n",
       "      <td>False</td>\n",
       "    </tr>\n",
       "    <tr>\n",
       "      <th>CHILDREN</th>\n",
       "      <td>False</td>\n",
       "      <td>False</td>\n",
       "      <td>False</td>\n",
       "      <td>False</td>\n",
       "      <td>True</td>\n",
       "      <td>False</td>\n",
       "      <td>False</td>\n",
       "      <td>False</td>\n",
       "      <td>False</td>\n",
       "      <td>False</td>\n",
       "      <td>False</td>\n",
       "    </tr>\n",
       "    <tr>\n",
       "      <th>POSTAL_CODE</th>\n",
       "      <td>False</td>\n",
       "      <td>False</td>\n",
       "      <td>False</td>\n",
       "      <td>False</td>\n",
       "      <td>False</td>\n",
       "      <td>True</td>\n",
       "      <td>False</td>\n",
       "      <td>False</td>\n",
       "      <td>False</td>\n",
       "      <td>False</td>\n",
       "      <td>False</td>\n",
       "    </tr>\n",
       "    <tr>\n",
       "      <th>ANNUAL_MILEAGE</th>\n",
       "      <td>False</td>\n",
       "      <td>False</td>\n",
       "      <td>False</td>\n",
       "      <td>False</td>\n",
       "      <td>False</td>\n",
       "      <td>False</td>\n",
       "      <td>True</td>\n",
       "      <td>False</td>\n",
       "      <td>False</td>\n",
       "      <td>False</td>\n",
       "      <td>False</td>\n",
       "    </tr>\n",
       "    <tr>\n",
       "      <th>SPEEDING_VIOLATIONS</th>\n",
       "      <td>False</td>\n",
       "      <td>False</td>\n",
       "      <td>False</td>\n",
       "      <td>False</td>\n",
       "      <td>False</td>\n",
       "      <td>False</td>\n",
       "      <td>False</td>\n",
       "      <td>True</td>\n",
       "      <td>False</td>\n",
       "      <td>True</td>\n",
       "      <td>False</td>\n",
       "    </tr>\n",
       "    <tr>\n",
       "      <th>DUIS</th>\n",
       "      <td>False</td>\n",
       "      <td>False</td>\n",
       "      <td>False</td>\n",
       "      <td>False</td>\n",
       "      <td>False</td>\n",
       "      <td>False</td>\n",
       "      <td>False</td>\n",
       "      <td>False</td>\n",
       "      <td>True</td>\n",
       "      <td>False</td>\n",
       "      <td>False</td>\n",
       "    </tr>\n",
       "    <tr>\n",
       "      <th>PAST_ACCIDENTS</th>\n",
       "      <td>False</td>\n",
       "      <td>False</td>\n",
       "      <td>False</td>\n",
       "      <td>False</td>\n",
       "      <td>False</td>\n",
       "      <td>False</td>\n",
       "      <td>False</td>\n",
       "      <td>True</td>\n",
       "      <td>False</td>\n",
       "      <td>True</td>\n",
       "      <td>False</td>\n",
       "    </tr>\n",
       "    <tr>\n",
       "      <th>OUTCOME</th>\n",
       "      <td>False</td>\n",
       "      <td>False</td>\n",
       "      <td>False</td>\n",
       "      <td>False</td>\n",
       "      <td>False</td>\n",
       "      <td>False</td>\n",
       "      <td>False</td>\n",
       "      <td>False</td>\n",
       "      <td>False</td>\n",
       "      <td>False</td>\n",
       "      <td>True</td>\n",
       "    </tr>\n",
       "  </tbody>\n",
       "</table>\n",
       "</div>"
      ],
      "text/plain": [
       "                        ID  CREDIT_SCORE  VEHICLE_OWNERSHIP  MARRIED  \\\n",
       "ID                    True         False              False    False   \n",
       "CREDIT_SCORE         False          True              False    False   \n",
       "VEHICLE_OWNERSHIP    False         False               True    False   \n",
       "MARRIED              False         False              False     True   \n",
       "CHILDREN             False         False              False    False   \n",
       "POSTAL_CODE          False         False              False    False   \n",
       "ANNUAL_MILEAGE       False         False              False    False   \n",
       "SPEEDING_VIOLATIONS  False         False              False    False   \n",
       "DUIS                 False         False              False    False   \n",
       "PAST_ACCIDENTS       False         False              False    False   \n",
       "OUTCOME              False         False              False    False   \n",
       "\n",
       "                     CHILDREN  POSTAL_CODE  ANNUAL_MILEAGE  \\\n",
       "ID                      False        False           False   \n",
       "CREDIT_SCORE            False        False           False   \n",
       "VEHICLE_OWNERSHIP       False        False           False   \n",
       "MARRIED                 False        False           False   \n",
       "CHILDREN                 True        False           False   \n",
       "POSTAL_CODE             False         True           False   \n",
       "ANNUAL_MILEAGE          False        False            True   \n",
       "SPEEDING_VIOLATIONS     False        False           False   \n",
       "DUIS                    False        False           False   \n",
       "PAST_ACCIDENTS          False        False           False   \n",
       "OUTCOME                 False        False           False   \n",
       "\n",
       "                     SPEEDING_VIOLATIONS   DUIS  PAST_ACCIDENTS  OUTCOME  \n",
       "ID                                 False  False           False    False  \n",
       "CREDIT_SCORE                       False  False           False    False  \n",
       "VEHICLE_OWNERSHIP                  False  False           False    False  \n",
       "MARRIED                            False  False           False    False  \n",
       "CHILDREN                           False  False           False    False  \n",
       "POSTAL_CODE                        False  False           False    False  \n",
       "ANNUAL_MILEAGE                     False  False           False    False  \n",
       "SPEEDING_VIOLATIONS                 True  False            True    False  \n",
       "DUIS                               False   True           False    False  \n",
       "PAST_ACCIDENTS                      True  False            True    False  \n",
       "OUTCOME                            False  False           False     True  "
      ]
     },
     "execution_count": 13,
     "metadata": {},
     "output_type": "execute_result"
    }
   ],
   "source": [
    "corr_mat >= 0.4"
   ]
  },
  {
   "cell_type": "markdown",
   "metadata": {},
   "source": [
    "Положительная корреляция показывает взаимосвязь пропорционального возрастания величин.Видим, что с признаком DUIS больше всего связаны признаки SPEEDING_VIOLATIONS и PAST_ACCIDENTS, что логично, ведь вождение в нетрезвом виде повышает вероятность превышения скорости и создания аварийных ситуаций. "
   ]
  },
  {
   "cell_type": "code",
   "execution_count": 14,
   "metadata": {},
   "outputs": [
    {
     "data": {
      "text/plain": [
       "SPEEDING_VIOLATIONS  PAST_ACCIDENTS    0.443074\n",
       "                     DUIS              0.359838\n",
       "dtype: float64"
      ]
     },
     "execution_count": 14,
     "metadata": {},
     "output_type": "execute_result"
    }
   ],
   "source": [
    "corr_mat.where(np.triu(corr_mat >= 0.35, k=1)).stack().sort_values(ascending=False)"
   ]
  },
  {
   "cell_type": "code",
   "execution_count": 15,
   "metadata": {},
   "outputs": [
    {
     "data": {
      "text/html": [
       "<div>\n",
       "<style scoped>\n",
       "    .dataframe tbody tr th:only-of-type {\n",
       "        vertical-align: middle;\n",
       "    }\n",
       "\n",
       "    .dataframe tbody tr th {\n",
       "        vertical-align: top;\n",
       "    }\n",
       "\n",
       "    .dataframe thead th {\n",
       "        text-align: right;\n",
       "    }\n",
       "</style>\n",
       "<table border=\"1\" class=\"dataframe\">\n",
       "  <thead>\n",
       "    <tr style=\"text-align: right;\">\n",
       "      <th></th>\n",
       "      <th>ID</th>\n",
       "      <th>CREDIT_SCORE</th>\n",
       "      <th>VEHICLE_OWNERSHIP</th>\n",
       "      <th>MARRIED</th>\n",
       "      <th>CHILDREN</th>\n",
       "      <th>POSTAL_CODE</th>\n",
       "      <th>ANNUAL_MILEAGE</th>\n",
       "      <th>SPEEDING_VIOLATIONS</th>\n",
       "      <th>DUIS</th>\n",
       "      <th>PAST_ACCIDENTS</th>\n",
       "      <th>OUTCOME</th>\n",
       "    </tr>\n",
       "  </thead>\n",
       "  <tbody>\n",
       "    <tr>\n",
       "      <th>ID</th>\n",
       "      <td>False</td>\n",
       "      <td>False</td>\n",
       "      <td>False</td>\n",
       "      <td>False</td>\n",
       "      <td>False</td>\n",
       "      <td>False</td>\n",
       "      <td>False</td>\n",
       "      <td>False</td>\n",
       "      <td>False</td>\n",
       "      <td>False</td>\n",
       "      <td>False</td>\n",
       "    </tr>\n",
       "    <tr>\n",
       "      <th>CREDIT_SCORE</th>\n",
       "      <td>False</td>\n",
       "      <td>False</td>\n",
       "      <td>False</td>\n",
       "      <td>False</td>\n",
       "      <td>False</td>\n",
       "      <td>False</td>\n",
       "      <td>False</td>\n",
       "      <td>False</td>\n",
       "      <td>False</td>\n",
       "      <td>False</td>\n",
       "      <td>True</td>\n",
       "    </tr>\n",
       "    <tr>\n",
       "      <th>VEHICLE_OWNERSHIP</th>\n",
       "      <td>False</td>\n",
       "      <td>False</td>\n",
       "      <td>False</td>\n",
       "      <td>False</td>\n",
       "      <td>False</td>\n",
       "      <td>False</td>\n",
       "      <td>False</td>\n",
       "      <td>False</td>\n",
       "      <td>False</td>\n",
       "      <td>False</td>\n",
       "      <td>True</td>\n",
       "    </tr>\n",
       "    <tr>\n",
       "      <th>MARRIED</th>\n",
       "      <td>False</td>\n",
       "      <td>False</td>\n",
       "      <td>False</td>\n",
       "      <td>False</td>\n",
       "      <td>False</td>\n",
       "      <td>False</td>\n",
       "      <td>True</td>\n",
       "      <td>False</td>\n",
       "      <td>False</td>\n",
       "      <td>False</td>\n",
       "      <td>False</td>\n",
       "    </tr>\n",
       "    <tr>\n",
       "      <th>CHILDREN</th>\n",
       "      <td>False</td>\n",
       "      <td>False</td>\n",
       "      <td>False</td>\n",
       "      <td>False</td>\n",
       "      <td>False</td>\n",
       "      <td>False</td>\n",
       "      <td>True</td>\n",
       "      <td>False</td>\n",
       "      <td>False</td>\n",
       "      <td>False</td>\n",
       "      <td>False</td>\n",
       "    </tr>\n",
       "    <tr>\n",
       "      <th>POSTAL_CODE</th>\n",
       "      <td>False</td>\n",
       "      <td>False</td>\n",
       "      <td>False</td>\n",
       "      <td>False</td>\n",
       "      <td>False</td>\n",
       "      <td>False</td>\n",
       "      <td>False</td>\n",
       "      <td>False</td>\n",
       "      <td>False</td>\n",
       "      <td>False</td>\n",
       "      <td>False</td>\n",
       "    </tr>\n",
       "    <tr>\n",
       "      <th>ANNUAL_MILEAGE</th>\n",
       "      <td>False</td>\n",
       "      <td>False</td>\n",
       "      <td>False</td>\n",
       "      <td>True</td>\n",
       "      <td>True</td>\n",
       "      <td>False</td>\n",
       "      <td>False</td>\n",
       "      <td>True</td>\n",
       "      <td>False</td>\n",
       "      <td>False</td>\n",
       "      <td>False</td>\n",
       "    </tr>\n",
       "    <tr>\n",
       "      <th>SPEEDING_VIOLATIONS</th>\n",
       "      <td>False</td>\n",
       "      <td>False</td>\n",
       "      <td>False</td>\n",
       "      <td>False</td>\n",
       "      <td>False</td>\n",
       "      <td>False</td>\n",
       "      <td>True</td>\n",
       "      <td>False</td>\n",
       "      <td>False</td>\n",
       "      <td>False</td>\n",
       "      <td>False</td>\n",
       "    </tr>\n",
       "    <tr>\n",
       "      <th>DUIS</th>\n",
       "      <td>False</td>\n",
       "      <td>False</td>\n",
       "      <td>False</td>\n",
       "      <td>False</td>\n",
       "      <td>False</td>\n",
       "      <td>False</td>\n",
       "      <td>False</td>\n",
       "      <td>False</td>\n",
       "      <td>False</td>\n",
       "      <td>False</td>\n",
       "      <td>False</td>\n",
       "    </tr>\n",
       "    <tr>\n",
       "      <th>PAST_ACCIDENTS</th>\n",
       "      <td>False</td>\n",
       "      <td>False</td>\n",
       "      <td>False</td>\n",
       "      <td>False</td>\n",
       "      <td>False</td>\n",
       "      <td>False</td>\n",
       "      <td>False</td>\n",
       "      <td>False</td>\n",
       "      <td>False</td>\n",
       "      <td>False</td>\n",
       "      <td>True</td>\n",
       "    </tr>\n",
       "    <tr>\n",
       "      <th>OUTCOME</th>\n",
       "      <td>False</td>\n",
       "      <td>True</td>\n",
       "      <td>True</td>\n",
       "      <td>False</td>\n",
       "      <td>False</td>\n",
       "      <td>False</td>\n",
       "      <td>False</td>\n",
       "      <td>False</td>\n",
       "      <td>False</td>\n",
       "      <td>True</td>\n",
       "      <td>False</td>\n",
       "    </tr>\n",
       "  </tbody>\n",
       "</table>\n",
       "</div>"
      ],
      "text/plain": [
       "                        ID  CREDIT_SCORE  VEHICLE_OWNERSHIP  MARRIED  \\\n",
       "ID                   False         False              False    False   \n",
       "CREDIT_SCORE         False         False              False    False   \n",
       "VEHICLE_OWNERSHIP    False         False              False    False   \n",
       "MARRIED              False         False              False    False   \n",
       "CHILDREN             False         False              False    False   \n",
       "POSTAL_CODE          False         False              False    False   \n",
       "ANNUAL_MILEAGE       False         False              False     True   \n",
       "SPEEDING_VIOLATIONS  False         False              False    False   \n",
       "DUIS                 False         False              False    False   \n",
       "PAST_ACCIDENTS       False         False              False    False   \n",
       "OUTCOME              False          True               True    False   \n",
       "\n",
       "                     CHILDREN  POSTAL_CODE  ANNUAL_MILEAGE  \\\n",
       "ID                      False        False           False   \n",
       "CREDIT_SCORE            False        False           False   \n",
       "VEHICLE_OWNERSHIP       False        False           False   \n",
       "MARRIED                 False        False            True   \n",
       "CHILDREN                False        False            True   \n",
       "POSTAL_CODE             False        False           False   \n",
       "ANNUAL_MILEAGE           True        False           False   \n",
       "SPEEDING_VIOLATIONS     False        False            True   \n",
       "DUIS                    False        False           False   \n",
       "PAST_ACCIDENTS          False        False           False   \n",
       "OUTCOME                 False        False           False   \n",
       "\n",
       "                     SPEEDING_VIOLATIONS   DUIS  PAST_ACCIDENTS  OUTCOME  \n",
       "ID                                 False  False           False    False  \n",
       "CREDIT_SCORE                       False  False           False     True  \n",
       "VEHICLE_OWNERSHIP                  False  False           False     True  \n",
       "MARRIED                            False  False           False    False  \n",
       "CHILDREN                           False  False           False    False  \n",
       "POSTAL_CODE                        False  False           False    False  \n",
       "ANNUAL_MILEAGE                      True  False           False    False  \n",
       "SPEEDING_VIOLATIONS                False  False           False    False  \n",
       "DUIS                               False  False           False    False  \n",
       "PAST_ACCIDENTS                     False  False           False     True  \n",
       "OUTCOME                            False  False            True    False  "
      ]
     },
     "execution_count": 15,
     "metadata": {},
     "output_type": "execute_result"
    }
   ],
   "source": [
    "corr_mat <= -0.3\n"
   ]
  },
  {
   "cell_type": "markdown",
   "metadata": {},
   "source": [
    "Отрицательная корреляция показывает обратную взаимосвязь: за счет возрастания одной величины, убывает другая. Мы видим такую взаимосвязь признаков PAST_ACCIDENTS и OUTCOME: компании совсем не выгодно одобрять страховку тем, кто часто попадает в аварии. Так же прослеживается связь между признаками CHILDREN, ANNUAL_MILEAGE и MARRIED. Это, возможно, связано с тем, что люди, не имеющие семью и детей более мобильны, соответственно их автомобильный пробег будет больше. Так же можно проследить обратную связь признаков SPEEDING_VIOLATIONS и CHILDREN: люди, у которых есть дети аккуратнее водят машину. "
   ]
  },
  {
   "cell_type": "code",
   "execution_count": 16,
   "metadata": {},
   "outputs": [
    {
     "data": {
      "text/plain": [
       "PAST_ACCIDENTS     OUTCOME               -0.311495\n",
       "ANNUAL_MILEAGE     SPEEDING_VIOLATIONS   -0.323547\n",
       "CREDIT_SCORE       OUTCOME               -0.325286\n",
       "VEHICLE_OWNERSHIP  OUTCOME               -0.378921\n",
       "CHILDREN           ANNUAL_MILEAGE        -0.447655\n",
       "MARRIED            ANNUAL_MILEAGE        -0.462193\n",
       "dtype: float64"
      ]
     },
     "execution_count": 16,
     "metadata": {},
     "output_type": "execute_result"
    }
   ],
   "source": [
    "corr_mat.where(np.triu(corr_mat <= -0.3, k=1)).stack().sort_values(ascending=False)"
   ]
  },
  {
   "cell_type": "markdown",
   "metadata": {},
   "source": [
    "Построим некоторые связи:\n"
   ]
  },
  {
   "cell_type": "code",
   "execution_count": 17,
   "metadata": {},
   "outputs": [
    {
     "data": {
      "image/png": "[encoded data removed]",
      "text/plain": [
       "<Figure size 432x288 with 1 Axes>"
      ]
     },
     "metadata": {
      "needs_background": "light"
     },
     "output_type": "display_data"
    }
   ],
   "source": [
    "plt.scatter(data_raw['SPEEDING_VIOLATIONS'], data_raw['DUIS'], alpha=0.4)\n",
    "pass"
   ]
  },
  {
   "cell_type": "code",
   "execution_count": 18,
   "metadata": {},
   "outputs": [
    {
     "data": {
      "image/png": "[encoded data removed]",
      "text/plain": [
       "<Figure size 432x288 with 1 Axes>"
      ]
     },
     "metadata": {
      "needs_background": "light"
     },
     "output_type": "display_data"
    }
   ],
   "source": [
    "plt.scatter(data_raw['SPEEDING_VIOLATIONS'], data_raw['PAST_ACCIDENTS'], alpha=0.4)\n",
    "pass"
   ]
  },
  {
   "cell_type": "markdown",
   "metadata": {},
   "source": [
    "Построим гистаграммы зависимостей:"
   ]
  },
  {
   "cell_type": "code",
   "execution_count": 19,
   "metadata": {},
   "outputs": [
    {
     "data": {
      "text/plain": [
       "<matplotlib.axes._subplots.AxesSubplot at 0x1c270f578b0>"
      ]
     },
     "execution_count": 19,
     "metadata": {},
     "output_type": "execute_result"
    },
    {
     "data": {
      "image/png": "[encoded data removed]",
      "text/plain": [
       "<Figure size 432x288 with 1 Axes>"
      ]
     },
     "metadata": {
      "needs_background": "light"
     },
     "output_type": "display_data"
    }
   ],
   "source": [
    "sns.barplot(data=data_raw, x=\"AGE\", y=\"OUTCOME\")"
   ]
  },
  {
   "cell_type": "code",
   "execution_count": 20,
   "metadata": {},
   "outputs": [
    {
     "data": {
      "image/png": "[encoded data removed]",
      "text/plain": [
       "<Figure size 432x288 with 1 Axes>"
      ]
     },
     "metadata": {
      "needs_background": "light"
     },
     "output_type": "display_data"
    }
   ],
   "source": [
    "sns.countplot(x='AGE', data=data_raw)\n",
    "pass"
   ]
  },
  {
   "cell_type": "markdown",
   "metadata": {},
   "source": [
    "Видим, что больше всего получение страховуи запрашивают люди возраста 26-64 года, однако чаще страховку одобряют более молодым водителям, так как у них скорее всего более хорошая кредитная история, меньше нарушений (возможно, у кого-то это страховка на его первый автомобиль)"
   ]
  },
  {
   "cell_type": "code",
   "execution_count": 21,
   "metadata": {},
   "outputs": [
    {
     "data": {
      "image/png": "[encoded data removed]",
      "text/plain": [
       "<Figure size 432x288 with 1 Axes>"
      ]
     },
     "metadata": {
      "needs_background": "light"
     },
     "output_type": "display_data"
    }
   ],
   "source": [
    "sns.countplot(x='GENDER', data=data_raw)\n",
    "pass"
   ]
  },
  {
   "cell_type": "markdown",
   "metadata": {},
   "source": [
    "Видим, что не смотря на небольшое преобладание женского пола, в страховке заинтересованы все"
   ]
  },
  {
   "cell_type": "code",
   "execution_count": 22,
   "metadata": {},
   "outputs": [
    {
     "data": {
      "text/plain": [
       "<matplotlib.axes._subplots.AxesSubplot at 0x1c271062b50>"
      ]
     },
     "execution_count": 22,
     "metadata": {},
     "output_type": "execute_result"
    },
    {
     "data": {
      "image/png": "[encoded data removed]",
      "text/plain": [
       "<Figure size 432x288 with 1 Axes>"
      ]
     },
     "metadata": {
      "needs_background": "light"
     },
     "output_type": "display_data"
    }
   ],
   "source": [
    "sns.barplot(data=data_raw, x=\"DRIVING_EXPERIENCE\", y=\"OUTCOME\")"
   ]
  },
  {
   "cell_type": "markdown",
   "metadata": {},
   "source": [
    "Видим, что страховку скорее одобрят водителям с меньшим стажем (скорее всего причина аналогична одобрению страховки более молодым водителям)"
   ]
  },
  {
   "cell_type": "code",
   "execution_count": 23,
   "metadata": {},
   "outputs": [
    {
     "data": {
      "image/png": "[encoded data removed]",
      "text/plain": [
       "<Figure size 432x288 with 1 Axes>"
      ]
     },
     "metadata": {
      "needs_background": "light"
     },
     "output_type": "display_data"
    }
   ],
   "source": [
    "sns.countplot(x='VEHICLE_OWNERSHIP', data=data_raw)\n",
    "pass"
   ]
  },
  {
   "cell_type": "markdown",
   "metadata": {},
   "source": [
    "Очевидно, в получении страховки больше заинтересованы люди, у которых есть свой автомобиль."
   ]
  },
  {
   "cell_type": "code",
   "execution_count": 24,
   "metadata": {},
   "outputs": [
    {
     "data": {
      "image/png": "[encoded data removed]",
      "text/plain": [
       "<Figure size 432x288 with 1 Axes>"
      ]
     },
     "metadata": {
      "needs_background": "light"
     },
     "output_type": "display_data"
    }
   ],
   "source": [
    "sns.countplot(x='CHILDREN', data=data_raw)\n",
    "pass"
   ]
  },
  {
   "cell_type": "markdown",
   "metadata": {},
   "source": [
    "Видим, что в страховке скорее заинтересованы люди, у которых есть дети"
   ]
  },
  {
   "cell_type": "markdown",
   "metadata": {},
   "source": [
    "## Пропущенные значения"
   ]
  },
  {
   "cell_type": "markdown",
   "metadata": {},
   "source": [
    "Проверим наличие пропущенных значений и их количество:"
   ]
  },
  {
   "cell_type": "code",
   "execution_count": 25,
   "metadata": {},
   "outputs": [
    {
     "data": {
      "text/plain": [
       "ID                       0\n",
       "AGE                      0\n",
       "GENDER                   0\n",
       "RACE                     0\n",
       "DRIVING_EXPERIENCE       0\n",
       "EDUCATION                0\n",
       "INCOME                   0\n",
       "CREDIT_SCORE           982\n",
       "VEHICLE_OWNERSHIP        0\n",
       "VEHICLE_YEAR             0\n",
       "MARRIED                  0\n",
       "CHILDREN                 0\n",
       "POSTAL_CODE              0\n",
       "ANNUAL_MILEAGE         957\n",
       "VEHICLE_TYPE             0\n",
       "SPEEDING_VIOLATIONS      0\n",
       "DUIS                     0\n",
       "PAST_ACCIDENTS           0\n",
       "OUTCOME                  0\n",
       "dtype: int64"
      ]
     },
     "execution_count": 25,
     "metadata": {},
     "output_type": "execute_result"
    }
   ],
   "source": [
    "data_raw.isna().sum()"
   ]
  },
  {
   "cell_type": "markdown",
   "metadata": {},
   "source": [
    "Заполним пропущенные значения. Так как оба признака числовые, заполнять будем медианной:"
   ]
  },
  {
   "cell_type": "code",
   "execution_count": 26,
   "metadata": {},
   "outputs": [],
   "source": [
    "data_raw.fillna(data_raw.median(axis = 0), axis=0 , inplace=True)"
   ]
  },
  {
   "cell_type": "markdown",
   "metadata": {},
   "source": [
    "Проверим заполнение:"
   ]
  },
  {
   "cell_type": "code",
   "execution_count": 27,
   "metadata": {},
   "outputs": [
    {
     "data": {
      "text/plain": [
       "ID                     0\n",
       "AGE                    0\n",
       "GENDER                 0\n",
       "RACE                   0\n",
       "DRIVING_EXPERIENCE     0\n",
       "EDUCATION              0\n",
       "INCOME                 0\n",
       "CREDIT_SCORE           0\n",
       "VEHICLE_OWNERSHIP      0\n",
       "VEHICLE_YEAR           0\n",
       "MARRIED                0\n",
       "CHILDREN               0\n",
       "POSTAL_CODE            0\n",
       "ANNUAL_MILEAGE         0\n",
       "VEHICLE_TYPE           0\n",
       "SPEEDING_VIOLATIONS    0\n",
       "DUIS                   0\n",
       "PAST_ACCIDENTS         0\n",
       "OUTCOME                0\n",
       "dtype: int64"
      ]
     },
     "execution_count": 27,
     "metadata": {},
     "output_type": "execute_result"
    }
   ],
   "source": [
    "data_raw.isna().sum()"
   ]
  },
  {
   "cell_type": "markdown",
   "metadata": {},
   "source": [
    "Пропущенных значений больше нет"
   ]
  },
  {
   "cell_type": "markdown",
   "metadata": {},
   "source": [
    "## Обработка котегориальных признаков"
   ]
  },
  {
   "cell_type": "markdown",
   "metadata": {},
   "source": [
    "Для последующей нормализации признаков, нам необходимо закодировать категориальные признаки с помощью числовых:\n",
    "заменим бинарные признаки на 0 и 1, а к небинарным применим метод бинаризации"
   ]
  },
  {
   "cell_type": "code",
   "execution_count": 28,
   "metadata": {},
   "outputs": [
    {
     "data": {
      "text/html": [
       "<div>\n",
       "<style scoped>\n",
       "    .dataframe tbody tr th:only-of-type {\n",
       "        vertical-align: middle;\n",
       "    }\n",
       "\n",
       "    .dataframe tbody tr th {\n",
       "        vertical-align: top;\n",
       "    }\n",
       "\n",
       "    .dataframe thead th {\n",
       "        text-align: right;\n",
       "    }\n",
       "</style>\n",
       "<table border=\"1\" class=\"dataframe\">\n",
       "  <thead>\n",
       "    <tr style=\"text-align: right;\">\n",
       "      <th></th>\n",
       "      <th>ID</th>\n",
       "      <th>AGE</th>\n",
       "      <th>GENDER</th>\n",
       "      <th>RACE</th>\n",
       "      <th>DRIVING_EXPERIENCE</th>\n",
       "      <th>EDUCATION</th>\n",
       "      <th>INCOME</th>\n",
       "      <th>CREDIT_SCORE</th>\n",
       "      <th>VEHICLE_OWNERSHIP</th>\n",
       "      <th>VEHICLE_YEAR</th>\n",
       "      <th>MARRIED</th>\n",
       "      <th>CHILDREN</th>\n",
       "      <th>POSTAL_CODE</th>\n",
       "      <th>ANNUAL_MILEAGE</th>\n",
       "      <th>VEHICLE_TYPE</th>\n",
       "      <th>SPEEDING_VIOLATIONS</th>\n",
       "      <th>DUIS</th>\n",
       "      <th>PAST_ACCIDENTS</th>\n",
       "      <th>OUTCOME</th>\n",
       "    </tr>\n",
       "  </thead>\n",
       "  <tbody>\n",
       "    <tr>\n",
       "      <th>0</th>\n",
       "      <td>569520</td>\n",
       "      <td>65+</td>\n",
       "      <td>0</td>\n",
       "      <td>0</td>\n",
       "      <td>0-9y</td>\n",
       "      <td>high school</td>\n",
       "      <td>upper class</td>\n",
       "      <td>0.629027</td>\n",
       "      <td>1.0</td>\n",
       "      <td>0</td>\n",
       "      <td>0.0</td>\n",
       "      <td>1.0</td>\n",
       "      <td>10238</td>\n",
       "      <td>12000.0</td>\n",
       "      <td>0</td>\n",
       "      <td>0</td>\n",
       "      <td>0</td>\n",
       "      <td>0</td>\n",
       "      <td>0.0</td>\n",
       "    </tr>\n",
       "    <tr>\n",
       "      <th>1</th>\n",
       "      <td>750365</td>\n",
       "      <td>16-25</td>\n",
       "      <td>1</td>\n",
       "      <td>0</td>\n",
       "      <td>0-9y</td>\n",
       "      <td>none</td>\n",
       "      <td>poverty</td>\n",
       "      <td>0.357757</td>\n",
       "      <td>0.0</td>\n",
       "      <td>1</td>\n",
       "      <td>0.0</td>\n",
       "      <td>0.0</td>\n",
       "      <td>10238</td>\n",
       "      <td>16000.0</td>\n",
       "      <td>0</td>\n",
       "      <td>0</td>\n",
       "      <td>0</td>\n",
       "      <td>0</td>\n",
       "      <td>1.0</td>\n",
       "    </tr>\n",
       "    <tr>\n",
       "      <th>2</th>\n",
       "      <td>199901</td>\n",
       "      <td>16-25</td>\n",
       "      <td>0</td>\n",
       "      <td>0</td>\n",
       "      <td>0-9y</td>\n",
       "      <td>high school</td>\n",
       "      <td>working class</td>\n",
       "      <td>0.493146</td>\n",
       "      <td>1.0</td>\n",
       "      <td>1</td>\n",
       "      <td>0.0</td>\n",
       "      <td>0.0</td>\n",
       "      <td>10238</td>\n",
       "      <td>11000.0</td>\n",
       "      <td>0</td>\n",
       "      <td>0</td>\n",
       "      <td>0</td>\n",
       "      <td>0</td>\n",
       "      <td>0.0</td>\n",
       "    </tr>\n",
       "    <tr>\n",
       "      <th>3</th>\n",
       "      <td>478866</td>\n",
       "      <td>16-25</td>\n",
       "      <td>1</td>\n",
       "      <td>0</td>\n",
       "      <td>0-9y</td>\n",
       "      <td>university</td>\n",
       "      <td>working class</td>\n",
       "      <td>0.206013</td>\n",
       "      <td>1.0</td>\n",
       "      <td>1</td>\n",
       "      <td>0.0</td>\n",
       "      <td>1.0</td>\n",
       "      <td>32765</td>\n",
       "      <td>11000.0</td>\n",
       "      <td>0</td>\n",
       "      <td>0</td>\n",
       "      <td>0</td>\n",
       "      <td>0</td>\n",
       "      <td>0.0</td>\n",
       "    </tr>\n",
       "    <tr>\n",
       "      <th>4</th>\n",
       "      <td>731664</td>\n",
       "      <td>26-39</td>\n",
       "      <td>1</td>\n",
       "      <td>0</td>\n",
       "      <td>10-19y</td>\n",
       "      <td>none</td>\n",
       "      <td>working class</td>\n",
       "      <td>0.388366</td>\n",
       "      <td>1.0</td>\n",
       "      <td>1</td>\n",
       "      <td>0.0</td>\n",
       "      <td>0.0</td>\n",
       "      <td>32765</td>\n",
       "      <td>12000.0</td>\n",
       "      <td>0</td>\n",
       "      <td>2</td>\n",
       "      <td>0</td>\n",
       "      <td>1</td>\n",
       "      <td>1.0</td>\n",
       "    </tr>\n",
       "  </tbody>\n",
       "</table>\n",
       "</div>"
      ],
      "text/plain": [
       "       ID    AGE  GENDER  RACE DRIVING_EXPERIENCE    EDUCATION         INCOME  \\\n",
       "0  569520    65+       0     0               0-9y  high school    upper class   \n",
       "1  750365  16-25       1     0               0-9y         none        poverty   \n",
       "2  199901  16-25       0     0               0-9y  high school  working class   \n",
       "3  478866  16-25       1     0               0-9y   university  working class   \n",
       "4  731664  26-39       1     0             10-19y         none  working class   \n",
       "\n",
       "   CREDIT_SCORE  VEHICLE_OWNERSHIP  VEHICLE_YEAR  MARRIED  CHILDREN  \\\n",
       "0      0.629027                1.0             0      0.0       1.0   \n",
       "1      0.357757                0.0             1      0.0       0.0   \n",
       "2      0.493146                1.0             1      0.0       0.0   \n",
       "3      0.206013                1.0             1      0.0       1.0   \n",
       "4      0.388366                1.0             1      0.0       0.0   \n",
       "\n",
       "   POSTAL_CODE  ANNUAL_MILEAGE  VEHICLE_TYPE  SPEEDING_VIOLATIONS  DUIS  \\\n",
       "0        10238         12000.0             0                    0     0   \n",
       "1        10238         16000.0             0                    0     0   \n",
       "2        10238         11000.0             0                    0     0   \n",
       "3        32765         11000.0             0                    0     0   \n",
       "4        32765         12000.0             0                    2     0   \n",
       "\n",
       "   PAST_ACCIDENTS  OUTCOME  \n",
       "0               0      0.0  \n",
       "1               0      1.0  \n",
       "2               0      0.0  \n",
       "3               0      0.0  \n",
       "4               1      1.0  "
      ]
     },
     "execution_count": 28,
     "metadata": {},
     "output_type": "execute_result"
    }
   ],
   "source": [
    "AGE_dummies = pd.get_dummies(data_raw['AGE'])\n",
    "DRIVING_EXPERIENCE_dummies = pd.get_dummies(data_raw['DRIVING_EXPERIENCE'])\n",
    "EDUCATION_dummies = pd.get_dummies(data_raw['EDUCATION'])\n",
    "INCOME_dummies = pd.get_dummies(data_raw['INCOME'])\n",
    "data_raw['GENDER'] = pd.factorize(data_raw['GENDER'])[0]\n",
    "data_raw['RACE'] = pd.factorize(data_raw['RACE'])[0]\n",
    "data_raw['VEHICLE_YEAR'] = pd.factorize(data_raw['VEHICLE_YEAR'])[0]\n",
    "data_raw['VEHICLE_TYPE'] = pd.factorize(data_raw['VEHICLE_TYPE'])[0]\n",
    "data_raw.head()"
   ]
  },
  {
   "cell_type": "markdown",
   "metadata": {},
   "source": [
    "Обработаем признаки \"AGE\", \"DRIVING_EXPERIENCE\", \"EDUCATION\", \"INCOME\""
   ]
  },
  {
   "cell_type": "code",
   "execution_count": 29,
   "metadata": {},
   "outputs": [
    {
     "name": "stdout",
     "output_type": "stream",
     "text": [
      "(10000, 30)\n"
     ]
    },
    {
     "data": {
      "text/html": [
       "<div>\n",
       "<style scoped>\n",
       "    .dataframe tbody tr th:only-of-type {\n",
       "        vertical-align: middle;\n",
       "    }\n",
       "\n",
       "    .dataframe tbody tr th {\n",
       "        vertical-align: top;\n",
       "    }\n",
       "\n",
       "    .dataframe thead th {\n",
       "        text-align: right;\n",
       "    }\n",
       "</style>\n",
       "<table border=\"1\" class=\"dataframe\">\n",
       "  <thead>\n",
       "    <tr style=\"text-align: right;\">\n",
       "      <th></th>\n",
       "      <th>ID</th>\n",
       "      <th>GENDER</th>\n",
       "      <th>RACE</th>\n",
       "      <th>CREDIT_SCORE</th>\n",
       "      <th>VEHICLE_OWNERSHIP</th>\n",
       "      <th>VEHICLE_YEAR</th>\n",
       "      <th>MARRIED</th>\n",
       "      <th>CHILDREN</th>\n",
       "      <th>POSTAL_CODE</th>\n",
       "      <th>ANNUAL_MILEAGE</th>\n",
       "      <th>...</th>\n",
       "      <th>DRIVING_EXPERIENCE_10-19y</th>\n",
       "      <th>DRIVING_EXPERIENCE_20-29y</th>\n",
       "      <th>DRIVING_EXPERIENCE_30y+</th>\n",
       "      <th>EDUCATION_high school</th>\n",
       "      <th>EDUCATION_none</th>\n",
       "      <th>EDUCATION_university</th>\n",
       "      <th>INCOME_middle class</th>\n",
       "      <th>INCOME_poverty</th>\n",
       "      <th>INCOME_upper class</th>\n",
       "      <th>INCOME_working class</th>\n",
       "    </tr>\n",
       "  </thead>\n",
       "  <tbody>\n",
       "    <tr>\n",
       "      <th>0</th>\n",
       "      <td>569520</td>\n",
       "      <td>0</td>\n",
       "      <td>0</td>\n",
       "      <td>0.629027</td>\n",
       "      <td>1.0</td>\n",
       "      <td>0</td>\n",
       "      <td>0.0</td>\n",
       "      <td>1.0</td>\n",
       "      <td>10238</td>\n",
       "      <td>12000.0</td>\n",
       "      <td>...</td>\n",
       "      <td>0</td>\n",
       "      <td>0</td>\n",
       "      <td>0</td>\n",
       "      <td>1</td>\n",
       "      <td>0</td>\n",
       "      <td>0</td>\n",
       "      <td>0</td>\n",
       "      <td>0</td>\n",
       "      <td>1</td>\n",
       "      <td>0</td>\n",
       "    </tr>\n",
       "    <tr>\n",
       "      <th>1</th>\n",
       "      <td>750365</td>\n",
       "      <td>1</td>\n",
       "      <td>0</td>\n",
       "      <td>0.357757</td>\n",
       "      <td>0.0</td>\n",
       "      <td>1</td>\n",
       "      <td>0.0</td>\n",
       "      <td>0.0</td>\n",
       "      <td>10238</td>\n",
       "      <td>16000.0</td>\n",
       "      <td>...</td>\n",
       "      <td>0</td>\n",
       "      <td>0</td>\n",
       "      <td>0</td>\n",
       "      <td>0</td>\n",
       "      <td>1</td>\n",
       "      <td>0</td>\n",
       "      <td>0</td>\n",
       "      <td>1</td>\n",
       "      <td>0</td>\n",
       "      <td>0</td>\n",
       "    </tr>\n",
       "    <tr>\n",
       "      <th>2</th>\n",
       "      <td>199901</td>\n",
       "      <td>0</td>\n",
       "      <td>0</td>\n",
       "      <td>0.493146</td>\n",
       "      <td>1.0</td>\n",
       "      <td>1</td>\n",
       "      <td>0.0</td>\n",
       "      <td>0.0</td>\n",
       "      <td>10238</td>\n",
       "      <td>11000.0</td>\n",
       "      <td>...</td>\n",
       "      <td>0</td>\n",
       "      <td>0</td>\n",
       "      <td>0</td>\n",
       "      <td>1</td>\n",
       "      <td>0</td>\n",
       "      <td>0</td>\n",
       "      <td>0</td>\n",
       "      <td>0</td>\n",
       "      <td>0</td>\n",
       "      <td>1</td>\n",
       "    </tr>\n",
       "    <tr>\n",
       "      <th>3</th>\n",
       "      <td>478866</td>\n",
       "      <td>1</td>\n",
       "      <td>0</td>\n",
       "      <td>0.206013</td>\n",
       "      <td>1.0</td>\n",
       "      <td>1</td>\n",
       "      <td>0.0</td>\n",
       "      <td>1.0</td>\n",
       "      <td>32765</td>\n",
       "      <td>11000.0</td>\n",
       "      <td>...</td>\n",
       "      <td>0</td>\n",
       "      <td>0</td>\n",
       "      <td>0</td>\n",
       "      <td>0</td>\n",
       "      <td>0</td>\n",
       "      <td>1</td>\n",
       "      <td>0</td>\n",
       "      <td>0</td>\n",
       "      <td>0</td>\n",
       "      <td>1</td>\n",
       "    </tr>\n",
       "    <tr>\n",
       "      <th>4</th>\n",
       "      <td>731664</td>\n",
       "      <td>1</td>\n",
       "      <td>0</td>\n",
       "      <td>0.388366</td>\n",
       "      <td>1.0</td>\n",
       "      <td>1</td>\n",
       "      <td>0.0</td>\n",
       "      <td>0.0</td>\n",
       "      <td>32765</td>\n",
       "      <td>12000.0</td>\n",
       "      <td>...</td>\n",
       "      <td>1</td>\n",
       "      <td>0</td>\n",
       "      <td>0</td>\n",
       "      <td>0</td>\n",
       "      <td>1</td>\n",
       "      <td>0</td>\n",
       "      <td>0</td>\n",
       "      <td>0</td>\n",
       "      <td>0</td>\n",
       "      <td>1</td>\n",
       "    </tr>\n",
       "  </tbody>\n",
       "</table>\n",
       "<p>5 rows × 30 columns</p>\n",
       "</div>"
      ],
      "text/plain": [
       "       ID  GENDER  RACE  CREDIT_SCORE  VEHICLE_OWNERSHIP  VEHICLE_YEAR  \\\n",
       "0  569520       0     0      0.629027                1.0             0   \n",
       "1  750365       1     0      0.357757                0.0             1   \n",
       "2  199901       0     0      0.493146                1.0             1   \n",
       "3  478866       1     0      0.206013                1.0             1   \n",
       "4  731664       1     0      0.388366                1.0             1   \n",
       "\n",
       "   MARRIED  CHILDREN  POSTAL_CODE  ANNUAL_MILEAGE  ...  \\\n",
       "0      0.0       1.0        10238         12000.0  ...   \n",
       "1      0.0       0.0        10238         16000.0  ...   \n",
       "2      0.0       0.0        10238         11000.0  ...   \n",
       "3      0.0       1.0        32765         11000.0  ...   \n",
       "4      0.0       0.0        32765         12000.0  ...   \n",
       "\n",
       "   DRIVING_EXPERIENCE_10-19y  DRIVING_EXPERIENCE_20-29y  \\\n",
       "0                          0                          0   \n",
       "1                          0                          0   \n",
       "2                          0                          0   \n",
       "3                          0                          0   \n",
       "4                          1                          0   \n",
       "\n",
       "   DRIVING_EXPERIENCE_30y+  EDUCATION_high school  EDUCATION_none  \\\n",
       "0                        0                      1               0   \n",
       "1                        0                      0               1   \n",
       "2                        0                      1               0   \n",
       "3                        0                      0               0   \n",
       "4                        0                      0               1   \n",
       "\n",
       "   EDUCATION_university  INCOME_middle class  INCOME_poverty  \\\n",
       "0                     0                    0               0   \n",
       "1                     0                    0               1   \n",
       "2                     0                    0               0   \n",
       "3                     1                    0               0   \n",
       "4                     0                    0               0   \n",
       "\n",
       "   INCOME_upper class  INCOME_working class  \n",
       "0                   1                     0  \n",
       "1                   0                     0  \n",
       "2                   0                     1  \n",
       "3                   0                     1  \n",
       "4                   0                     1  \n",
       "\n",
       "[5 rows x 30 columns]"
      ]
     },
     "execution_count": 29,
     "metadata": {},
     "output_type": "execute_result"
    }
   ],
   "source": [
    "data_raw = pd.get_dummies(data_raw)\n",
    "print(data_raw.shape)\n",
    "data_raw.head()"
   ]
  },
  {
   "cell_type": "markdown",
   "metadata": {},
   "source": [
    "### Наличие выбросов"
   ]
  },
  {
   "cell_type": "markdown",
   "metadata": {},
   "source": [
    "##### Числовые признаки:"
   ]
  },
  {
   "cell_type": "code",
   "execution_count": 38,
   "metadata": {},
   "outputs": [
    {
     "data": {
      "text/plain": [
       "0.525033    982\n",
       "0.416992      1\n",
       "0.489497      1\n",
       "0.404057      1\n",
       "0.327697      1\n",
       "           ... \n",
       "0.810278      1\n",
       "0.258656      1\n",
       "0.309254      1\n",
       "0.343953      1\n",
       "0.633064      1\n",
       "Name: CREDIT_SCORE, Length: 9019, dtype: int64"
      ]
     },
     "execution_count": 38,
     "metadata": {},
     "output_type": "execute_result"
    }
   ],
   "source": [
    "data_raw['CREDIT_SCORE'].value_counts()"
   ]
  },
  {
   "cell_type": "code",
   "execution_count": 39,
   "metadata": {},
   "outputs": [
    {
     "data": {
      "image/png": "[encoded data removed]",
      "text/plain": [
       "<Figure size 432x288 with 1 Axes>"
      ]
     },
     "metadata": {
      "needs_background": "light"
     },
     "output_type": "display_data"
    }
   ],
   "source": [
    "plt.scatter(data_raw['OUTCOME'], data_raw['CREDIT_SCORE'], alpha=0.4)\n",
    "pass"
   ]
  },
  {
   "cell_type": "code",
   "execution_count": 40,
   "metadata": {},
   "outputs": [
    {
     "data": {
      "text/plain": [
       "1.0    6970\n",
       "0.0    3030\n",
       "Name: VEHICLE_OWNERSHIP, dtype: int64"
      ]
     },
     "execution_count": 40,
     "metadata": {},
     "output_type": "execute_result"
    }
   ],
   "source": [
    "data_raw['VEHICLE_OWNERSHIP'].value_counts()"
   ]
  },
  {
   "cell_type": "code",
   "execution_count": 41,
   "metadata": {},
   "outputs": [
    {
     "data": {
      "text/plain": [
       "0.0    5018\n",
       "1.0    4982\n",
       "Name: MARRIED, dtype: int64"
      ]
     },
     "execution_count": 41,
     "metadata": {},
     "output_type": "execute_result"
    }
   ],
   "source": [
    "data_raw['MARRIED'].value_counts()"
   ]
  },
  {
   "cell_type": "code",
   "execution_count": 42,
   "metadata": {},
   "outputs": [
    {
     "data": {
      "text/plain": [
       "1.0    6888\n",
       "0.0    3112\n",
       "Name: CHILDREN, dtype: int64"
      ]
     },
     "execution_count": 42,
     "metadata": {},
     "output_type": "execute_result"
    }
   ],
   "source": [
    "data_raw['CHILDREN'].value_counts()"
   ]
  },
  {
   "cell_type": "code",
   "execution_count": 43,
   "metadata": {},
   "outputs": [
    {
     "data": {
      "text/plain": [
       "10238    6940\n",
       "32765    2456\n",
       "92101     484\n",
       "21217     120\n",
       "Name: POSTAL_CODE, dtype: int64"
      ]
     },
     "execution_count": 43,
     "metadata": {},
     "output_type": "execute_result"
    }
   ],
   "source": [
    "data_raw['POSTAL_CODE'].value_counts()"
   ]
  },
  {
   "cell_type": "code",
   "execution_count": 44,
   "metadata": {},
   "outputs": [
    {
     "data": {
      "text/plain": [
       "12000.0    2175\n",
       "11000.0    1253\n",
       "13000.0    1137\n",
       "10000.0    1071\n",
       "14000.0     894\n",
       "9000.0      856\n",
       "15000.0     632\n",
       "8000.0      557\n",
       "16000.0     419\n",
       "7000.0      322\n",
       "17000.0     246\n",
       "6000.0      165\n",
       "18000.0     103\n",
       "5000.0       65\n",
       "19000.0      48\n",
       "4000.0       27\n",
       "20000.0      13\n",
       "3000.0       10\n",
       "21000.0       3\n",
       "22000.0       2\n",
       "2000.0        2\n",
       "Name: ANNUAL_MILEAGE, dtype: int64"
      ]
     },
     "execution_count": 44,
     "metadata": {},
     "output_type": "execute_result"
    }
   ],
   "source": [
    "data_raw['ANNUAL_MILEAGE'].value_counts()"
   ]
  },
  {
   "cell_type": "code",
   "execution_count": 45,
   "metadata": {},
   "outputs": [
    {
     "data": {
      "text/plain": [
       "0     5028\n",
       "1     1544\n",
       "2     1161\n",
       "3      830\n",
       "4      530\n",
       "5      319\n",
       "6      188\n",
       "7      140\n",
       "8       75\n",
       "10      50\n",
       "9       49\n",
       "11      30\n",
       "12      20\n",
       "13      12\n",
       "15       8\n",
       "14       5\n",
       "16       4\n",
       "17       3\n",
       "19       2\n",
       "18       1\n",
       "22       1\n",
       "Name: SPEEDING_VIOLATIONS, dtype: int64"
      ]
     },
     "execution_count": 45,
     "metadata": {},
     "output_type": "execute_result"
    }
   ],
   "source": [
    "data_raw['SPEEDING_VIOLATIONS'].value_counts()"
   ]
  },
  {
   "cell_type": "code",
   "execution_count": 46,
   "metadata": {},
   "outputs": [
    {
     "data": {
      "text/plain": [
       "0    8118\n",
       "1    1470\n",
       "2     331\n",
       "3      68\n",
       "4      10\n",
       "5       2\n",
       "6       1\n",
       "Name: DUIS, dtype: int64"
      ]
     },
     "execution_count": 46,
     "metadata": {},
     "output_type": "execute_result"
    }
   ],
   "source": [
    "data_raw['DUIS'].value_counts()"
   ]
  },
  {
   "cell_type": "code",
   "execution_count": 47,
   "metadata": {},
   "outputs": [
    {
     "data": {
      "text/plain": [
       "0     5584\n",
       "1     1783\n",
       "2     1104\n",
       "3      646\n",
       "4      366\n",
       "5      232\n",
       "6      144\n",
       "7       61\n",
       "8       41\n",
       "9       19\n",
       "10       9\n",
       "11       7\n",
       "12       2\n",
       "15       1\n",
       "14       1\n",
       "Name: PAST_ACCIDENTS, dtype: int64"
      ]
     },
     "execution_count": 47,
     "metadata": {},
     "output_type": "execute_result"
    }
   ],
   "source": [
    "data_raw['PAST_ACCIDENTS'].value_counts()"
   ]
  },
  {
   "cell_type": "code",
   "execution_count": 48,
   "metadata": {},
   "outputs": [
    {
     "data": {
      "text/plain": [
       "0.0    6867\n",
       "1.0    3133\n",
       "Name: OUTCOME, dtype: int64"
      ]
     },
     "execution_count": 48,
     "metadata": {},
     "output_type": "execute_result"
    }
   ],
   "source": [
    "data_raw['OUTCOME'].value_counts()"
   ]
  },
  {
   "cell_type": "markdown",
   "metadata": {},
   "source": [
    "## Нормализация признаков"
   ]
  },
  {
   "cell_type": "markdown",
   "metadata": {},
   "source": [
    "Нормализация подразумевает изменение диапазонов в данных без изменения формы распределения, приводим значения к диапазону [0;1]"
   ]
  },
  {
   "cell_type": "code",
   "execution_count": 49,
   "metadata": {},
   "outputs": [
    {
     "data": {
      "text/html": [
       "<div>\n",
       "<style scoped>\n",
       "    .dataframe tbody tr th:only-of-type {\n",
       "        vertical-align: middle;\n",
       "    }\n",
       "\n",
       "    .dataframe tbody tr th {\n",
       "        vertical-align: top;\n",
       "    }\n",
       "\n",
       "    .dataframe thead th {\n",
       "        text-align: right;\n",
       "    }\n",
       "</style>\n",
       "<table border=\"1\" class=\"dataframe\">\n",
       "  <thead>\n",
       "    <tr style=\"text-align: right;\">\n",
       "      <th></th>\n",
       "      <th>ID</th>\n",
       "      <th>GENDER</th>\n",
       "      <th>RACE</th>\n",
       "      <th>CREDIT_SCORE</th>\n",
       "      <th>VEHICLE_OWNERSHIP</th>\n",
       "      <th>VEHICLE_YEAR</th>\n",
       "      <th>MARRIED</th>\n",
       "      <th>CHILDREN</th>\n",
       "      <th>POSTAL_CODE</th>\n",
       "      <th>ANNUAL_MILEAGE</th>\n",
       "      <th>...</th>\n",
       "      <th>DRIVING_EXPERIENCE_10-19y</th>\n",
       "      <th>DRIVING_EXPERIENCE_20-29y</th>\n",
       "      <th>DRIVING_EXPERIENCE_30y+</th>\n",
       "      <th>EDUCATION_high school</th>\n",
       "      <th>EDUCATION_none</th>\n",
       "      <th>EDUCATION_university</th>\n",
       "      <th>INCOME_middle class</th>\n",
       "      <th>INCOME_poverty</th>\n",
       "      <th>INCOME_upper class</th>\n",
       "      <th>INCOME_working class</th>\n",
       "    </tr>\n",
       "  </thead>\n",
       "  <tbody>\n",
       "    <tr>\n",
       "      <th>count</th>\n",
       "      <td>10000.000000</td>\n",
       "      <td>10000.000000</td>\n",
       "      <td>10000.000000</td>\n",
       "      <td>10000.000000</td>\n",
       "      <td>10000.000000</td>\n",
       "      <td>10000.000000</td>\n",
       "      <td>10000.000000</td>\n",
       "      <td>10000.000000</td>\n",
       "      <td>10000.000000</td>\n",
       "      <td>10000.000000</td>\n",
       "      <td>...</td>\n",
       "      <td>10000.0000</td>\n",
       "      <td>10000.000000</td>\n",
       "      <td>10000.000000</td>\n",
       "      <td>10000.000000</td>\n",
       "      <td>10000.000000</td>\n",
       "      <td>10000.000000</td>\n",
       "      <td>10000.000000</td>\n",
       "      <td>10000.000000</td>\n",
       "      <td>10000.000000</td>\n",
       "      <td>10000.000000</td>\n",
       "    </tr>\n",
       "    <tr>\n",
       "      <th>mean</th>\n",
       "      <td>0.500483</td>\n",
       "      <td>0.499000</td>\n",
       "      <td>0.098800</td>\n",
       "      <td>0.510612</td>\n",
       "      <td>0.697000</td>\n",
       "      <td>0.696700</td>\n",
       "      <td>0.498200</td>\n",
       "      <td>0.688800</td>\n",
       "      <td>0.117593</td>\n",
       "      <td>0.486300</td>\n",
       "      <td>...</td>\n",
       "      <td>0.3299</td>\n",
       "      <td>0.211900</td>\n",
       "      <td>0.105200</td>\n",
       "      <td>0.415700</td>\n",
       "      <td>0.191500</td>\n",
       "      <td>0.392800</td>\n",
       "      <td>0.213800</td>\n",
       "      <td>0.181400</td>\n",
       "      <td>0.433600</td>\n",
       "      <td>0.171200</td>\n",
       "    </tr>\n",
       "    <tr>\n",
       "      <th>std</th>\n",
       "      <td>0.290067</td>\n",
       "      <td>0.500024</td>\n",
       "      <td>0.298408</td>\n",
       "      <td>0.144117</td>\n",
       "      <td>0.459578</td>\n",
       "      <td>0.459707</td>\n",
       "      <td>0.500022</td>\n",
       "      <td>0.463008</td>\n",
       "      <td>0.231064</td>\n",
       "      <td>0.134082</td>\n",
       "      <td>...</td>\n",
       "      <td>0.4702</td>\n",
       "      <td>0.408675</td>\n",
       "      <td>0.306826</td>\n",
       "      <td>0.492867</td>\n",
       "      <td>0.393501</td>\n",
       "      <td>0.488397</td>\n",
       "      <td>0.410008</td>\n",
       "      <td>0.385369</td>\n",
       "      <td>0.495596</td>\n",
       "      <td>0.376702</td>\n",
       "    </tr>\n",
       "    <tr>\n",
       "      <th>min</th>\n",
       "      <td>0.000000</td>\n",
       "      <td>0.000000</td>\n",
       "      <td>0.000000</td>\n",
       "      <td>0.000000</td>\n",
       "      <td>0.000000</td>\n",
       "      <td>0.000000</td>\n",
       "      <td>0.000000</td>\n",
       "      <td>0.000000</td>\n",
       "      <td>0.000000</td>\n",
       "      <td>0.000000</td>\n",
       "      <td>...</td>\n",
       "      <td>0.0000</td>\n",
       "      <td>0.000000</td>\n",
       "      <td>0.000000</td>\n",
       "      <td>0.000000</td>\n",
       "      <td>0.000000</td>\n",
       "      <td>0.000000</td>\n",
       "      <td>0.000000</td>\n",
       "      <td>0.000000</td>\n",
       "      <td>0.000000</td>\n",
       "      <td>0.000000</td>\n",
       "    </tr>\n",
       "    <tr>\n",
       "      <th>25%</th>\n",
       "      <td>0.249569</td>\n",
       "      <td>0.000000</td>\n",
       "      <td>0.000000</td>\n",
       "      <td>0.416714</td>\n",
       "      <td>0.000000</td>\n",
       "      <td>0.000000</td>\n",
       "      <td>0.000000</td>\n",
       "      <td>0.000000</td>\n",
       "      <td>0.000000</td>\n",
       "      <td>0.400000</td>\n",
       "      <td>...</td>\n",
       "      <td>0.0000</td>\n",
       "      <td>0.000000</td>\n",
       "      <td>0.000000</td>\n",
       "      <td>0.000000</td>\n",
       "      <td>0.000000</td>\n",
       "      <td>0.000000</td>\n",
       "      <td>0.000000</td>\n",
       "      <td>0.000000</td>\n",
       "      <td>0.000000</td>\n",
       "      <td>0.000000</td>\n",
       "    </tr>\n",
       "    <tr>\n",
       "      <th>50%</th>\n",
       "      <td>0.501739</td>\n",
       "      <td>0.000000</td>\n",
       "      <td>0.000000</td>\n",
       "      <td>0.519774</td>\n",
       "      <td>1.000000</td>\n",
       "      <td>1.000000</td>\n",
       "      <td>0.000000</td>\n",
       "      <td>1.000000</td>\n",
       "      <td>0.000000</td>\n",
       "      <td>0.500000</td>\n",
       "      <td>...</td>\n",
       "      <td>0.0000</td>\n",
       "      <td>0.000000</td>\n",
       "      <td>0.000000</td>\n",
       "      <td>0.000000</td>\n",
       "      <td>0.000000</td>\n",
       "      <td>0.000000</td>\n",
       "      <td>0.000000</td>\n",
       "      <td>0.000000</td>\n",
       "      <td>0.000000</td>\n",
       "      <td>0.000000</td>\n",
       "    </tr>\n",
       "    <tr>\n",
       "      <th>75%</th>\n",
       "      <td>0.753968</td>\n",
       "      <td>1.000000</td>\n",
       "      <td>0.000000</td>\n",
       "      <td>0.610769</td>\n",
       "      <td>1.000000</td>\n",
       "      <td>1.000000</td>\n",
       "      <td>1.000000</td>\n",
       "      <td>1.000000</td>\n",
       "      <td>0.275179</td>\n",
       "      <td>0.550000</td>\n",
       "      <td>...</td>\n",
       "      <td>1.0000</td>\n",
       "      <td>0.000000</td>\n",
       "      <td>0.000000</td>\n",
       "      <td>1.000000</td>\n",
       "      <td>0.000000</td>\n",
       "      <td>1.000000</td>\n",
       "      <td>0.000000</td>\n",
       "      <td>0.000000</td>\n",
       "      <td>1.000000</td>\n",
       "      <td>0.000000</td>\n",
       "    </tr>\n",
       "    <tr>\n",
       "      <th>max</th>\n",
       "      <td>1.000000</td>\n",
       "      <td>1.000000</td>\n",
       "      <td>1.000000</td>\n",
       "      <td>1.000000</td>\n",
       "      <td>1.000000</td>\n",
       "      <td>1.000000</td>\n",
       "      <td>1.000000</td>\n",
       "      <td>1.000000</td>\n",
       "      <td>1.000000</td>\n",
       "      <td>1.000000</td>\n",
       "      <td>...</td>\n",
       "      <td>1.0000</td>\n",
       "      <td>1.000000</td>\n",
       "      <td>1.000000</td>\n",
       "      <td>1.000000</td>\n",
       "      <td>1.000000</td>\n",
       "      <td>1.000000</td>\n",
       "      <td>1.000000</td>\n",
       "      <td>1.000000</td>\n",
       "      <td>1.000000</td>\n",
       "      <td>1.000000</td>\n",
       "    </tr>\n",
       "  </tbody>\n",
       "</table>\n",
       "<p>8 rows × 30 columns</p>\n",
       "</div>"
      ],
      "text/plain": [
       "                 ID        GENDER          RACE  CREDIT_SCORE  \\\n",
       "count  10000.000000  10000.000000  10000.000000  10000.000000   \n",
       "mean       0.500483      0.499000      0.098800      0.510612   \n",
       "std        0.290067      0.500024      0.298408      0.144117   \n",
       "min        0.000000      0.000000      0.000000      0.000000   \n",
       "25%        0.249569      0.000000      0.000000      0.416714   \n",
       "50%        0.501739      0.000000      0.000000      0.519774   \n",
       "75%        0.753968      1.000000      0.000000      0.610769   \n",
       "max        1.000000      1.000000      1.000000      1.000000   \n",
       "\n",
       "       VEHICLE_OWNERSHIP  VEHICLE_YEAR       MARRIED      CHILDREN  \\\n",
       "count       10000.000000  10000.000000  10000.000000  10000.000000   \n",
       "mean            0.697000      0.696700      0.498200      0.688800   \n",
       "std             0.459578      0.459707      0.500022      0.463008   \n",
       "min             0.000000      0.000000      0.000000      0.000000   \n",
       "25%             0.000000      0.000000      0.000000      0.000000   \n",
       "50%             1.000000      1.000000      0.000000      1.000000   \n",
       "75%             1.000000      1.000000      1.000000      1.000000   \n",
       "max             1.000000      1.000000      1.000000      1.000000   \n",
       "\n",
       "        POSTAL_CODE  ANNUAL_MILEAGE  ...  DRIVING_EXPERIENCE_10-19y  \\\n",
       "count  10000.000000    10000.000000  ...                 10000.0000   \n",
       "mean       0.117593        0.486300  ...                     0.3299   \n",
       "std        0.231064        0.134082  ...                     0.4702   \n",
       "min        0.000000        0.000000  ...                     0.0000   \n",
       "25%        0.000000        0.400000  ...                     0.0000   \n",
       "50%        0.000000        0.500000  ...                     0.0000   \n",
       "75%        0.275179        0.550000  ...                     1.0000   \n",
       "max        1.000000        1.000000  ...                     1.0000   \n",
       "\n",
       "       DRIVING_EXPERIENCE_20-29y  DRIVING_EXPERIENCE_30y+  \\\n",
       "count               10000.000000             10000.000000   \n",
       "mean                    0.211900                 0.105200   \n",
       "std                     0.408675                 0.306826   \n",
       "min                     0.000000                 0.000000   \n",
       "25%                     0.000000                 0.000000   \n",
       "50%                     0.000000                 0.000000   \n",
       "75%                     0.000000                 0.000000   \n",
       "max                     1.000000                 1.000000   \n",
       "\n",
       "       EDUCATION_high school  EDUCATION_none  EDUCATION_university  \\\n",
       "count           10000.000000    10000.000000          10000.000000   \n",
       "mean                0.415700        0.191500              0.392800   \n",
       "std                 0.492867        0.393501              0.488397   \n",
       "min                 0.000000        0.000000              0.000000   \n",
       "25%                 0.000000        0.000000              0.000000   \n",
       "50%                 0.000000        0.000000              0.000000   \n",
       "75%                 1.000000        0.000000              1.000000   \n",
       "max                 1.000000        1.000000              1.000000   \n",
       "\n",
       "       INCOME_middle class  INCOME_poverty  INCOME_upper class  \\\n",
       "count         10000.000000    10000.000000        10000.000000   \n",
       "mean              0.213800        0.181400            0.433600   \n",
       "std               0.410008        0.385369            0.495596   \n",
       "min               0.000000        0.000000            0.000000   \n",
       "25%               0.000000        0.000000            0.000000   \n",
       "50%               0.000000        0.000000            0.000000   \n",
       "75%               0.000000        0.000000            1.000000   \n",
       "max               1.000000        1.000000            1.000000   \n",
       "\n",
       "       INCOME_working class  \n",
       "count          10000.000000  \n",
       "mean               0.171200  \n",
       "std                0.376702  \n",
       "min                0.000000  \n",
       "25%                0.000000  \n",
       "50%                0.000000  \n",
       "75%                0.000000  \n",
       "max                1.000000  \n",
       "\n",
       "[8 rows x 30 columns]"
      ]
     },
     "execution_count": 49,
     "metadata": {},
     "output_type": "execute_result"
    }
   ],
   "source": [
    "data_normal = (data_raw - data_raw.min(axis=0)) / (data_raw.max(axis=0) - data_raw.min(axis=0))\n",
    "data_normal.describe()"
   ]
  },
  {
   "cell_type": "markdown",
   "metadata": {},
   "source": [
    "## Выбор признаков"
   ]
  },
  {
   "cell_type": "markdown",
   "metadata": {},
   "source": [
    "Логично использовать все признаки, кроме ID, так как он создается только для уникальной идентификации"
   ]
  },
  {
   "cell_type": "code",
   "execution_count": 50,
   "metadata": {},
   "outputs": [],
   "source": [
    "X = data_normal.drop (['ID', 'OUTCOME'], axis=1) \n",
    "y = data_raw['OUTCOME']"
   ]
  },
  {
   "cell_type": "markdown",
   "metadata": {},
   "source": [
    "Разбиваем данные на обущающую и тестовую выборки (75% обучающая выборка, 25% - тестовая)"
   ]
  },
  {
   "cell_type": "code",
   "execution_count": 51,
   "metadata": {},
   "outputs": [
    {
     "data": {
      "text/plain": [
       "(7500, 2500)"
      ]
     },
     "execution_count": 51,
     "metadata": {},
     "output_type": "execute_result"
    }
   ],
   "source": [
    "from sklearn.model_selection import train_test_split\n",
    "X_train, X_test, y_train, y_test = train_test_split(X, y, test_size = 0.25, random_state = 42)\n",
    "N_train, _ = X_train.shape \n",
    "N_test,  _ = X_test.shape \n",
    "N_train, N_test"
   ]
  },
  {
   "cell_type": "markdown",
   "metadata": {},
   "source": [
    "## Классификатор ближайших соседей"
   ]
  },
  {
   "cell_type": "code",
   "execution_count": 52,
   "metadata": {},
   "outputs": [],
   "source": [
    "#from sklearn.neighbors import KNeighborsClassifier\n",
    "#knn_def = KNeighborsClassifier()\n",
    "#knn_def.fit(X_train, y_train)\n",
    "#err_tr = 100 * knn_def.score(X_train, y_train)\n",
    "#err_te= 100 * knn_def.score(X_test, y_test)\n",
    "#print(\"Accuracy. Train : {:.2f}%, Test: {:.2f}%. \".format(err_tr, err_te))"
   ]
  },
  {
   "cell_type": "code",
   "execution_count": 53,
   "metadata": {},
   "outputs": [
    {
     "data": {
      "text/plain": [
       "KNeighborsClassifier(n_neighbors=10)"
      ]
     },
     "execution_count": 53,
     "metadata": {},
     "output_type": "execute_result"
    }
   ],
   "source": [
    "from sklearn.neighbors import KNeighborsClassifier\n",
    "\n",
    "knn = KNeighborsClassifier(n_neighbors = 10)\n",
    "knn.fit(X_train, y_train)"
   ]
  },
  {
   "cell_type": "code",
   "execution_count": 54,
   "metadata": {},
   "outputs": [],
   "source": [
    "y_test_predict = knn.predict(X_test)\n",
    "err_test  = np.mean(y_test  != y_test_predict)\n",
    "y_train_predict=knn.predict(X_train)\n",
    "err_train  = np.mean(y_train  != y_train_predict)"
   ]
  },
  {
   "cell_type": "code",
   "execution_count": 55,
   "metadata": {},
   "outputs": [
    {
     "data": {
      "text/plain": [
       "(18.4, 14.84)"
      ]
     },
     "execution_count": 55,
     "metadata": {},
     "output_type": "execute_result"
    }
   ],
   "source": [
    "err_test*100, err_train*100"
   ]
  },
  {
   "cell_type": "markdown",
   "metadata": {},
   "source": [
    "Получаем ошибку на тестовой выборке 18.4%, а на обучающей 14.84%."
   ]
  },
  {
   "cell_type": "markdown",
   "metadata": {},
   "source": [
    "Увеличим число соседей до 20:"
   ]
  },
  {
   "cell_type": "code",
   "execution_count": 56,
   "metadata": {},
   "outputs": [
    {
     "data": {
      "text/plain": [
       "KNeighborsClassifier(n_neighbors=20)"
      ]
     },
     "execution_count": 56,
     "metadata": {},
     "output_type": "execute_result"
    }
   ],
   "source": [
    "from sklearn.neighbors import KNeighborsClassifier\n",
    "\n",
    "knn = KNeighborsClassifier(n_neighbors = 20)\n",
    "knn.fit(X_train, y_train)"
   ]
  },
  {
   "cell_type": "code",
   "execution_count": 57,
   "metadata": {},
   "outputs": [],
   "source": [
    "y_test_predict = knn.predict(X_test)\n",
    "err_test  = np.mean(y_test  != y_test_predict)\n",
    "y_train_predict=knn.predict(X_train)\n",
    "err_train  = np.mean(y_train  != y_train_predict)"
   ]
  },
  {
   "cell_type": "code",
   "execution_count": 58,
   "metadata": {},
   "outputs": [
    {
     "data": {
      "text/plain": [
       "(17.8, 16.2)"
      ]
     },
     "execution_count": 58,
     "metadata": {},
     "output_type": "execute_result"
    }
   ],
   "source": [
    "err_test*100, err_train*100"
   ]
  },
  {
   "cell_type": "markdown",
   "metadata": {},
   "source": [
    "Видим, что точность на тестовой выборке увеличилась, но уменьшилась на обучающей"
   ]
  },
  {
   "cell_type": "markdown",
   "metadata": {},
   "source": [
    "## Выводы "
   ]
  },
  {
   "cell_type": "markdown",
   "metadata": {},
   "source": [
    "Анализируя данные, мы выявляли, будет получена страховка или нет. Обучение и классификация проводились с помощью метода ближайших k-соседей (рассмотрены случаи 10 и 20 соседей). Полученный процент ошибок: на тестовой выборке 18.4%, на обучающей 14.84% при 10 соседях и 17.8% на тестовой выборке, на обучающей 16.2% при 20 соседях. Значения ошибок получились достаточно большими, возможно, из-за того, что при решении о выдече страховки учитывается множество факторов, в том числе и некая удача, что клиент не попадет в аварию или не превысит скорость. Возможно, результаты ошибок можно улучшить, используе другой классификатор."
   ]
  },
  {
   "cell_type": "markdown",
   "metadata": {},
   "source": [
    "# Обучение нейронной сети"
   ]
  },
  {
   "cell_type": "code",
   "execution_count": 59,
   "metadata": {},
   "outputs": [],
   "source": [
    "from sklearn.neural_network import MLPClassifier\n",
    "from sklearn.metrics import accuracy_score"
   ]
  },
  {
   "cell_type": "markdown",
   "metadata": {},
   "source": [
    "### Обучение модели при различном числе нейронов в скрытом слоe, изображение зависимости между величиной ошибки и количеством нейронов. \n"
   ]
  },
  {
   "cell_type": "code",
   "execution_count": null,
   "metadata": {},
   "outputs": [],
   "source": [
    "n_array = np.linspace(1, 50, 50)\n",
    "n_array = n_array.astype(int)\n",
    "test_err = []\n",
    "train_err = []\n",
    "test_acc = []\n",
    "train_acc = []\n",
    "\n",
    "for n in n_array:\n",
    "  mlp_model = MLPClassifier(hidden_layer_sizes = (n,),\n",
    "                          solver = 'adam', \n",
    "                          max_iter=10000,\n",
    "                          activation = 'relu',\n",
    "                          random_state = 42)\n",
    "  mlp_model.fit(X_train, y_train)\n",
    "  y_train_pred = mlp_model.predict(X_train) \n",
    "  y_test_pred = mlp_model.predict(X_test)\n",
    "  train_err.append(np.mean(y_train != y_train_pred))\n",
    "  test_err.append(np.mean(y_test != y_test_pred))\n",
    "  train_acc.append(accuracy_score(y_train, y_train_pred))\n",
    "  test_acc.append(accuracy_score(y_test, y_test_pred))"
   ]
  },
  {
   "cell_type": "code",
   "execution_count": null,
   "metadata": {},
   "outputs": [],
   "source": [
    "print(\"Минимальное значение ошибки на обучающей выборке достигнуто при количестве нейронов: \" + str(n_array[np.argmin(train_err)]))\n",
    "print(np.min(train_err))\n",
    "\n",
    "print(\"Минимальное значение ошибки на тестовой выборке достигнуто при количестве нейронов: \" + str(n_array[np.argmin(test_err)]))\n",
    "print(np.min(test_err))"
   ]
  },
  {
   "cell_type": "code",
   "execution_count": null,
   "metadata": {},
   "outputs": [],
   "source": [
    "plt.semilogx(n_array, train_err, 'b-o', label = 'train')\n",
    "plt.semilogx(n_array, test_err, 'r-o', label = 'test')\n",
    "plt.xlim([np.min(n_array), np.max(n_array)])\n",
    "plt.title('Error vs. amount of neurons')\n",
    "plt.xlabel('neurons amount')\n",
    "plt.ylabel('error')\n",
    "plt.legend()"
   ]
  },
  {
   "cell_type": "code",
   "execution_count": null,
   "metadata": {},
   "outputs": [],
   "source": [
    "plt.semilogx(n_array, train_acc, 'b-o', label = 'train')\n",
    "plt.semilogx(n_array, test_acc, 'r-o', label = 'test')\n",
    "plt.xlim([np.min(n_array), np.max(n_array)])\n",
    "plt.title('Accuracy vs. amount of neurons')\n",
    "plt.xlabel('neurons amount')\n",
    "plt.ylabel('accuracy')\n",
    "plt.legend()"
   ]
  },
  {
   "cell_type": "code",
   "execution_count": null,
   "metadata": {},
   "outputs": [],
   "source": [
    "alpha_arr = np.logspace(-3, 2, 21)\n",
    "test_err = []\n",
    "train_err = []\n",
    "test_acc = []\n",
    "train_acc = []\n",
    "\n",
    "for alpha in alpha_arr :\n",
    "    mlp_model = MLPClassifier(alpha = alpha, hidden_layer_sizes = (5,), \n",
    "                              solver = 'adam', activation = 'relu', max_iter=100000, random_state = 42)\n",
    "    mlp_model.fit(X_train, y_train)\n",
    "\n",
    "    y_train_pred = mlp_model.predict(X_train)\n",
    "    y_test_pred = mlp_model.predict(X_test)\n",
    "    train_err.append(np.mean(y_train != y_train_pred))\n",
    "    test_err.append(np.mean(y_test != y_test_pred))\n",
    "    train_acc.append(accuracy_score(y_train, y_train_pred))\n",
    "    test_acc.append(accuracy_score(y_test, y_test_pred))\n",
    "    \n",
    "min_train_err = np.min(train_err)\n",
    "min_test_err = np.min(test_err)\n",
    "print(\"Минимальное значение ошибки на обучающей и тестовой выборках:\")\n",
    "print(min_train_err, min_test_err)\n",
    "    \n",
    "alpha_opt = alpha_arr[test_err == min_test_err]\n",
    "print(\"Оптимальное значение параметра:\" + str(alpha_opt[0]))\n",
    "    "
   ]
  },
  {
   "cell_type": "code",
   "execution_count": null,
   "metadata": {},
   "outputs": [],
   "source": [
    "plt.semilogx(alpha_arr, train_err, 'b-o', label = 'train')\n",
    "plt.semilogx(alpha_arr, test_err, 'r-o', label = 'test')\n",
    "plt.xlim([np.min(alpha_arr), np.max(alpha_arr)])\n",
    "plt.title('Error vs. alpha')\n",
    "plt.xlabel('alpha')\n",
    "plt.ylabel('error')\n",
    "plt.legend()"
   ]
  },
  {
   "cell_type": "code",
   "execution_count": null,
   "metadata": {},
   "outputs": [],
   "source": [
    "plt.semilogx(alpha_arr, train_acc, 'r-o', label = 'train')\n",
    "plt.semilogx(alpha_arr, test_acc, 'b-o', label = 'test')\n",
    "plt.xlim([np.min(alpha_arr), np.max(alpha_arr)])\n",
    "plt.title('Accuracy vs. alpha, neurons = ' + str(n))\n",
    "plt.xlabel('alpha')\n",
    "plt.ylabel('Accuracy')\n",
    "plt.legend()"
   ]
  },
  {
   "cell_type": "code",
   "execution_count": null,
   "metadata": {},
   "outputs": [],
   "source": [
    "alpha_optimal = alpha_opt[0]\n",
    "mlp_model = MLPClassifier(alpha = alpha_optimal, hidden_layer_sizes = (5,),\n",
    "                          solver = 'adam', activation = 'relu', max_iter=100000, random_state = 42)\n",
    "mlp_model.fit(X_train, y_train)\n",
    "\n",
    "y_train_pred = mlp_model.predict(X_train)\n",
    "y_test_pred = mlp_model.predict(X_test)\n",
    "print(\"Ошибка на обучающей выборке: \" + str(np.mean(y_train != y_train_pred)))\n",
    "print(\"Ошибка на тестовой выборке: \" + str(np.mean(y_test != y_test_pred)))"
   ]
  },
  {
   "cell_type": "code",
   "execution_count": null,
   "metadata": {},
   "outputs": [],
   "source": []
  },
  {
   "cell_type": "code",
   "execution_count": null,
   "metadata": {},
   "outputs": [],
   "source": []
  },
  {
   "cell_type": "code",
   "execution_count": null,
   "metadata": {},
   "outputs": [],
   "source": []
  },
  {
   "cell_type": "code",
   "execution_count": null,
   "metadata": {},
   "outputs": [],
   "source": []
  },
  {
   "cell_type": "code",
   "execution_count": null,
   "metadata": {},
   "outputs": [],
   "source": []
  },
  {
   "cell_type": "code",
   "execution_count": null,
   "metadata": {},
   "outputs": [],
   "source": []
  },
  {
   "cell_type": "code",
   "execution_count": null,
   "metadata": {},
   "outputs": [],
   "source": []
  },
  {
   "cell_type": "code",
   "execution_count": null,
   "metadata": {},
   "outputs": [],
   "source": []
  },
  {
   "cell_type": "code",
   "execution_count": null,
   "metadata": {},
   "outputs": [],
   "source": []
  },
  {
   "cell_type": "code",
   "execution_count": null,
   "metadata": {},
   "outputs": [],
   "source": []
  },
  {
   "cell_type": "code",
   "execution_count": null,
   "metadata": {},
   "outputs": [],
   "source": []
  },
  {
   "cell_type": "code",
   "execution_count": null,
   "metadata": {},
   "outputs": [],
   "source": []
  },
  {
   "cell_type": "code",
   "execution_count": null,
   "metadata": {},
   "outputs": [],
   "source": []
  },
  {
   "cell_type": "code",
   "execution_count": null,
   "metadata": {},
   "outputs": [],
   "source": []
  },
  {
   "cell_type": "code",
   "execution_count": null,
   "metadata": {},
   "outputs": [],
   "source": []
  },
  {
   "cell_type": "code",
   "execution_count": null,
   "metadata": {},
   "outputs": [],
   "source": []
  },
  {
   "cell_type": "code",
   "execution_count": null,
   "metadata": {},
   "outputs": [],
   "source": []
  },
  {
   "cell_type": "code",
   "execution_count": null,
   "metadata": {},
   "outputs": [],
   "source": []
  },
  {
   "cell_type": "code",
   "execution_count": null,
   "metadata": {},
   "outputs": [],
   "source": []
  },
  {
   "cell_type": "code",
   "execution_count": null,
   "metadata": {},
   "outputs": [],
   "source": []
  },
  {
   "cell_type": "code",
   "execution_count": null,
   "metadata": {},
   "outputs": [],
   "source": []
  },
  {
   "cell_type": "code",
   "execution_count": null,
   "metadata": {},
   "outputs": [],
   "source": []
  },
  {
   "cell_type": "code",
   "execution_count": null,
   "metadata": {},
   "outputs": [],
   "source": []
  },
  {
   "cell_type": "code",
   "execution_count": null,
   "metadata": {},
   "outputs": [],
   "source": []
  },
  {
   "cell_type": "code",
   "execution_count": null,
   "metadata": {},
   "outputs": [],
   "source": []
  },
  {
   "cell_type": "code",
   "execution_count": null,
   "metadata": {},
   "outputs": [],
   "source": []
  },
  {
   "cell_type": "code",
   "execution_count": null,
   "metadata": {},
   "outputs": [],
   "source": []
  },
  {
   "cell_type": "code",
   "execution_count": null,
   "metadata": {},
   "outputs": [],
   "source": []
  },
  {
   "cell_type": "code",
   "execution_count": null,
   "metadata": {},
   "outputs": [],
   "source": []
  },
  {
   "cell_type": "code",
   "execution_count": null,
   "metadata": {},
   "outputs": [],
   "source": []
  },
  {
   "cell_type": "code",
   "execution_count": null,
   "metadata": {},
   "outputs": [],
   "source": []
  },
  {
   "cell_type": "code",
   "execution_count": null,
   "metadata": {},
   "outputs": [],
   "source": []
  },
  {
   "cell_type": "code",
   "execution_count": null,
   "metadata": {},
   "outputs": [],
   "source": []
  },
  {
   "cell_type": "code",
   "execution_count": null,
   "metadata": {},
   "outputs": [],
   "source": []
  },
  {
   "cell_type": "code",
   "execution_count": null,
   "metadata": {},
   "outputs": [],
   "source": []
  },
  {
   "cell_type": "code",
   "execution_count": null,
   "metadata": {},
   "outputs": [],
   "source": []
  },
  {
   "cell_type": "code",
   "execution_count": null,
   "metadata": {},
   "outputs": [],
   "source": []
  },
  {
   "cell_type": "code",
   "execution_count": null,
   "metadata": {},
   "outputs": [],
   "source": []
  },
  {
   "cell_type": "code",
   "execution_count": null,
   "metadata": {},
   "outputs": [],
   "source": []
  },
  {
   "cell_type": "code",
   "execution_count": null,
   "metadata": {},
   "outputs": [],
   "source": []
  },
  {
   "cell_type": "code",
   "execution_count": null,
   "metadata": {},
   "outputs": [],
   "source": []
  },
  {
   "cell_type": "code",
   "execution_count": null,
   "metadata": {},
   "outputs": [],
   "source": []
  },
  {
   "cell_type": "code",
   "execution_count": null,
   "metadata": {},
   "outputs": [],
   "source": []
  },
  {
   "cell_type": "code",
   "execution_count": null,
   "metadata": {},
   "outputs": [],
   "source": []
  },
  {
   "cell_type": "code",
   "execution_count": null,
   "metadata": {},
   "outputs": [],
   "source": []
  }
 ],
 "metadata": {
  "kernelspec": {
   "display_name": "Python 3",
   "language": "python",
   "name": "python3"
  },
  "language_info": {
   "codemirror_mode": {
    "name": "ipython",
    "version": 3
   },
   "file_extension": ".py",
   "mimetype": "text/x-python",
   "name": "python",
   "nbconvert_exporter": "python",
   "pygments_lexer": "ipython3",
   "version": "3.8.3"
  }
 },
 "nbformat": 4,
 "nbformat_minor": 4
}
